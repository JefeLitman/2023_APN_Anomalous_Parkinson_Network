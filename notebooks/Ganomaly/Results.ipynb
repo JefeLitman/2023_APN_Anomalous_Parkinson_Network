{
 "cells": [
  {
   "cell_type": "markdown",
   "id": "endangered-assets",
   "metadata": {},
   "source": [
    "# GANomaly Notebook Results"
   ]
  },
  {
   "cell_type": "markdown",
   "id": "embedded-billy",
   "metadata": {},
   "source": [
    "## Initial Configurations"
   ]
  },
  {
   "cell_type": "markdown",
   "id": "protected-meter",
   "metadata": {},
   "source": [
    "### Libraries import"
   ]
  },
  {
   "cell_type": "code",
   "execution_count": null,
   "id": "ignored-motorcycle",
   "metadata": {},
   "outputs": [],
   "source": [
    "import os\n",
    "import sys\n",
    "import random\n",
    "import numpy as np\n",
    "import pandas as pd\n",
    "from scipy import stats\n",
    "import matplotlib.pyplot as plt\n",
    "import umap\n",
    "from sklearn.decomposition import PCA\n",
    "import cv2\n",
    "from IPython.display import display, clear_output\n",
    "from ipywidgets import interact, IntSlider\n",
    "\n",
    "sys.path.append(\"../../\")"
   ]
  },
  {
   "cell_type": "code",
   "execution_count": null,
   "id": "bored-portuguese",
   "metadata": {},
   "outputs": [],
   "source": [
    "from utils.metrics import dagostinoPearson_test, andersonDarling_test, shapiroWilks_test, chiSquare_test, fOneWay_test\n",
    "from utils.metrics import brownForsythe_test, levene_test, bartlett_test\n",
    "from utils.metrics import mannWhitney_test, kruskalWallis_test, kolmogorovSmirnov_test\n",
    "from utils.savers import generate_qq_plot"
   ]
  },
  {
   "cell_type": "markdown",
   "id": "1eec12b3",
   "metadata": {},
   "source": [
    "### Experiment selection"
   ]
  },
  {
   "cell_type": "code",
   "execution_count": null,
   "id": "5551c490",
   "metadata": {},
   "outputs": [],
   "source": [
    "experiment_id = \"0009\"\n",
    "root_path = \"/home/jefelitman/Saved_Models/Anomaly_parkinson/\"\n",
    "for i in sorted(os.listdir(\"/home/jefelitman/Saved_Models/Anomaly_parkinson/\")):\n",
    "    if experiment_id in i:\n",
    "        experiment_folder = os.path.join(root_path, i)\n",
    "experiment_folder"
   ]
  },
  {
   "cell_type": "markdown",
   "id": "labeled-audit",
   "metadata": {},
   "source": [
    "## Quantitative metrics"
   ]
  },
  {
   "cell_type": "markdown",
   "id": "norwegian-decline",
   "metadata": {},
   "source": [
    "### Metrics loading"
   ]
  },
  {
   "cell_type": "code",
   "execution_count": null,
   "id": "optimum-genetics",
   "metadata": {},
   "outputs": [],
   "source": [
    "train_metrics = pd.read_csv(os.path.join(experiment_folder, \"metrics/train.csv\"))\n",
    "data = train_metrics\n",
    "np.max(data, axis=0), np.min(data, axis=0), data.tail()"
   ]
  },
  {
   "cell_type": "code",
   "execution_count": null,
   "id": "confidential-guest",
   "metadata": {},
   "outputs": [],
   "source": [
    "test_metrics = pd.read_csv(os.path.join(experiment_folder, \"metrics/test.csv\"))\n",
    "data = test_metrics\n",
    "np.max(data, axis=0), np.min(data, axis=0), data.tail()"
   ]
  },
  {
   "cell_type": "markdown",
   "id": "blessed-columbia",
   "metadata": {},
   "source": [
    "### Train Graphics"
   ]
  },
  {
   "cell_type": "code",
   "execution_count": null,
   "id": "completed-round",
   "metadata": {},
   "outputs": [],
   "source": [
    "path = os.path.join(experiment_folder, \"outputs/graphics/quantitative/\")\n",
    "portions = 500\n",
    "rows = 12\n",
    "columns = 5\n",
    "for metric in [\"gen_error\", \"disc_error\", \"accuracy\", \"specificity\"]:\n",
    "    fig, axs = plt.subplots(rows, columns, figsize=(30, 25))\n",
    "    fig.suptitle('{} over Epochs'.format(metric))\n",
    "    for i in range(rows):\n",
    "        for j in range(columns):\n",
    "            axs[i, j].plot(train_metrics[metric][(i*columns+j)*portions:(i*columns+j+1)*portions])\n",
    "            filename = 'train_{}.png'.format(metric)\n",
    "    fig.savefig(path+filename)\n",
    "    plt.close(fig)"
   ]
  },
  {
   "cell_type": "markdown",
   "id": "latin-giant",
   "metadata": {},
   "source": [
    "### Test graphics"
   ]
  },
  {
   "cell_type": "code",
   "execution_count": null,
   "id": "least-melissa",
   "metadata": {},
   "outputs": [],
   "source": [
    "path = os.path.join(experiment_folder, \"outputs/graphics/quantitative/\")\n",
    "portions = 500\n",
    "rows = 12\n",
    "columns = 5\n",
    "for metric in test_metrics.columns[1:]:\n",
    "    fig, axs = plt.subplots(rows, columns, figsize=(30, 25))\n",
    "    fig.suptitle('{} over Epochs'.format(metric))\n",
    "    for i in range(rows):\n",
    "        for j in range(columns):\n",
    "            axs[i, j].plot(test_metrics[metric][(i*columns+j)*portions:(i*columns+j+1)*portions])\n",
    "            filename = 'test_{}.png'.format(metric)\n",
    "    fig.savefig(path+filename)\n",
    "    plt.close(fig)"
   ]
  },
  {
   "cell_type": "markdown",
   "id": "olympic-recipient",
   "metadata": {},
   "source": [
    "## Qualitative metrics"
   ]
  },
  {
   "cell_type": "markdown",
   "id": "french-handy",
   "metadata": {},
   "source": [
    "### Errors loading"
   ]
  },
  {
   "cell_type": "code",
   "execution_count": null,
   "id": "configured-tyler",
   "metadata": {},
   "outputs": [],
   "source": [
    "base_path = os.path.join(experiment_folder, \"outputs/errors/\")\n",
    "for t in [\"encoder\", \"contextual\", \"adversarial\"]:\n",
    "    for m in [\"train\", \"test\"]:\n",
    "        classes = [\"normal\"] if m == \"train\" else [\"normal\", \"abnormal\"]\n",
    "        for c in classes:\n",
    "            all_data = \"all_{}_{}\".format(t, c)\n",
    "            if all_data not in globals().keys():\n",
    "                globals()[all_data] = np.r_[[]]\n",
    "            \n",
    "            errors = np.load(os.path.join(base_path, t, m, c+\".npy\"))\n",
    "            globals()[\"{}_{}_{}\".format(m, t, c)] = errors\n",
    "            globals()[all_data] = np.concatenate([globals()[all_data], errors])"
   ]
  },
  {
   "cell_type": "markdown",
   "id": "dynamic-remains",
   "metadata": {},
   "source": [
    "### Train means and stds"
   ]
  },
  {
   "cell_type": "code",
   "execution_count": null,
   "id": "disciplinary-label",
   "metadata": {},
   "outputs": [],
   "source": [
    "for t in [\"encoder\", \"contextual\", \"adversarial\"]:\n",
    "    for c in [\"normal\"]:\n",
    "        data = globals()[\"train_{}_{}\".format(t,c)]\n",
    "        print(\"{i} error ({j}): {m} +- {s}\".format(\n",
    "            i = t,\n",
    "            j = c,\n",
    "            m = np.mean(data),\n",
    "            s = np.std(data)\n",
    "        ))\n",
    "    print(\"\")"
   ]
  },
  {
   "cell_type": "markdown",
   "id": "opponent-status",
   "metadata": {},
   "source": [
    "### Train statistical tests"
   ]
  },
  {
   "cell_type": "code",
   "execution_count": null,
   "id": "continuing-installation",
   "metadata": {},
   "outputs": [],
   "source": [
    "for t in [\"encoder\", \"contextual\", \"adversarial\"]:\n",
    "    for c in [\"normal\"]:\n",
    "        print(\"-------------------------------------------------\")\n",
    "        data = globals()[\"train_{}_{}\".format(t,c)]\n",
    "        norm_dist = stats.norm.rvs(loc=0, scale=1, size=data.shape)\n",
    "        print(\"D'agostino-Pearson test for {i} ({j}): {m}\".format(\n",
    "            i = t,\n",
    "            j = c,\n",
    "            m = dagostinoPearson_test(data)\n",
    "        ))\n",
    "        print(\"Shapiro-Wilks test for {i} ({j}): {m}\".format(\n",
    "            i = t,\n",
    "            j = c,\n",
    "            m = shapiroWilks_test(data)\n",
    "        ))\n",
    "        print(\"Barlett test for {i} ({j}): {m}\".format(\n",
    "            i = t,\n",
    "            j = c,\n",
    "            m = bartlett_test(data, norm_dist)\n",
    "        ))\n",
    "        print(\"Levene test for {i} ({j}): {m}\".format(\n",
    "            i = t,\n",
    "            j = c,\n",
    "            m = levene_test(data, norm_dist)\n",
    "        ))\n",
    "        print(\"F1 test for {i} ({j}): {m}\".format(\n",
    "            i = t,\n",
    "            j = c,\n",
    "            m = fOneWay_test(data, norm_dist)\n",
    "        ))\n",
    "        print(\"-------------------------------------------------\")\n",
    "    print(\"\")"
   ]
  },
  {
   "cell_type": "markdown",
   "id": "outside-indian",
   "metadata": {},
   "source": [
    "### Test means and stds"
   ]
  },
  {
   "cell_type": "code",
   "execution_count": null,
   "id": "tired-jacob",
   "metadata": {},
   "outputs": [],
   "source": [
    "for t in [\"encoder\", \"contextual\", \"adversarial\"]:\n",
    "    for c in [\"normal\", \"abnormal\"]:\n",
    "        data = globals()[\"test_{}_{}\".format(t,c)]\n",
    "        print(\"{i} error ({j}): {m} +- {s}\".format(\n",
    "            i = t,\n",
    "            j = c,\n",
    "            m = np.mean(data),\n",
    "            s = np.std(data)\n",
    "        ))\n",
    "    print(\"\")"
   ]
  },
  {
   "cell_type": "markdown",
   "id": "electronic-remove",
   "metadata": {},
   "source": [
    "### Test statistical tests"
   ]
  },
  {
   "cell_type": "code",
   "execution_count": null,
   "id": "funny-duncan",
   "metadata": {},
   "outputs": [],
   "source": [
    "for t in [\"encoder\", \"contextual\", \"adversarial\"]:\n",
    "    for c in [\"normal\", \"abnormal\"]:\n",
    "        print(\"-------------------------------------------------\")\n",
    "        data = globals()[\"test_{}_{}\".format(t,c)]\n",
    "        norm_dist = stats.norm.rvs(loc=0, scale=1, size=data.shape)\n",
    "        print(\"D'agostino-Pearson test for {i} ({j}): {m}\".format(\n",
    "            i = t,\n",
    "            j = c,\n",
    "            m = dagostinoPearson_test(data)\n",
    "        ))\n",
    "        print(\"Shapiro-Wilks test for {i} ({j}): {m}\".format(\n",
    "            i = t,\n",
    "            j = c,\n",
    "            m = shapiroWilks_test(data)\n",
    "        ))\n",
    "        print(\"Barlett test for {i} ({j}): {m}\".format(\n",
    "            i = t,\n",
    "            j = c,\n",
    "            m = bartlett_test(data, norm_dist)\n",
    "        ))\n",
    "        print(\"Levene test for {i} ({j}): {m}\".format(\n",
    "            i = t,\n",
    "            j = c,\n",
    "            m = levene_test(data, norm_dist)\n",
    "        ))\n",
    "        print(\"F1 test for {i} ({j}): {m}\".format(\n",
    "            i = t,\n",
    "            j = c,\n",
    "            m = fOneWay_test(data, norm_dist)\n",
    "        ))\n",
    "        print(\"-------------------------------------------------\")\n",
    "    print(\"\")"
   ]
  },
  {
   "cell_type": "markdown",
   "id": "2b956fca",
   "metadata": {},
   "source": [
    "### All data means and stds"
   ]
  },
  {
   "cell_type": "code",
   "execution_count": null,
   "id": "14458150",
   "metadata": {},
   "outputs": [],
   "source": [
    "for t in [\"encoder\", \"contextual\", \"adversarial\"]:\n",
    "    for c in [\"normal\", \"abnormal\"]:\n",
    "        data = globals()[\"all_{}_{}\".format(t,c)]\n",
    "        print(\"{i} error ({j}): {m} +- {s}\".format(\n",
    "            i = t,\n",
    "            j = c,\n",
    "            m = np.mean(data),\n",
    "            s = np.std(data)\n",
    "        ))\n",
    "    print(\"\")"
   ]
  },
  {
   "cell_type": "markdown",
   "id": "9cd8b130",
   "metadata": {},
   "source": [
    "### All data statistical tests"
   ]
  },
  {
   "cell_type": "code",
   "execution_count": null,
   "id": "6bbc99f4",
   "metadata": {},
   "outputs": [],
   "source": [
    "for t in [\"encoder\", \"contextual\", \"adversarial\"]:\n",
    "    for c in [\"normal\", \"abnormal\"]:\n",
    "        print(\"-------------------------------------------------\")\n",
    "        data = globals()[\"all_{}_{}\".format(t,c)]\n",
    "        norm_dist = stats.norm.rvs(loc=0, scale=1, size=data.shape)\n",
    "        print(\"D'agostino-Pearson test for {i} ({j}): {m}\".format(\n",
    "            i = t,\n",
    "            j = c,\n",
    "            m = dagostinoPearson_test(data)\n",
    "        ))\n",
    "        print(\"Shapiro-Wilks test for {i} ({j}): {m}\".format(\n",
    "            i = t,\n",
    "            j = c,\n",
    "            m = shapiroWilks_test(data)\n",
    "        ))\n",
    "        print(\"Barlett test for {i} ({j}): {m}\".format(\n",
    "            i = t,\n",
    "            j = c,\n",
    "            m = bartlett_test(data, norm_dist)\n",
    "        ))\n",
    "        print(\"Levene test for {i} ({j}): {m}\".format(\n",
    "            i = t,\n",
    "            j = c,\n",
    "            m = levene_test(data, norm_dist)\n",
    "        ))\n",
    "        print(\"F1 test for {i} ({j}): {m}\".format(\n",
    "            i = t,\n",
    "            j = c,\n",
    "            m = fOneWay_test(data, norm_dist)\n",
    "        ))\n",
    "        print(\"-------------------------------------------------\")\n",
    "    print(\"\")"
   ]
  },
  {
   "cell_type": "markdown",
   "id": "minus-processor",
   "metadata": {},
   "source": [
    "### Train graphics"
   ]
  },
  {
   "cell_type": "markdown",
   "id": "split-merchandise",
   "metadata": {},
   "source": [
    "#### QQ plots"
   ]
  },
  {
   "cell_type": "code",
   "execution_count": null,
   "id": "motivated-plant",
   "metadata": {},
   "outputs": [],
   "source": [
    "save_path = os.path.join(experiment_folder, \"outputs/graphics/qualitative/\")\n",
    "for t in [\"encoder\", \"contextual\", \"adversarial\"]:\n",
    "    for c in [\"normal\"]:\n",
    "        generate_qq_plot(globals()[\"train_{}_{}\".format(t,c)], save_path, \"train_{}_{}\".format(t,c))"
   ]
  },
  {
   "cell_type": "code",
   "execution_count": null,
   "id": "d73d42ec",
   "metadata": {},
   "outputs": [],
   "source": [
    "import statsmodels.api as sm\n",
    "from scipy import stats\n",
    "\n",
    "def min_max_scaler(data, new_max, new_min):\n",
    "    data_std = (data - np.min(data)) / (np.max(data) - np.min(data))\n",
    "    data_scaled = data_std * (new_max - new_min) + new_min\n",
    "    return data_scaled"
   ]
  },
  {
   "cell_type": "code",
   "execution_count": null,
   "id": "b24df9ca",
   "metadata": {},
   "outputs": [],
   "source": [
    "data = test_contextual_abnormal\n",
    "stats.chisquare(data, ddof=data.shape[0]-2)"
   ]
  },
  {
   "cell_type": "code",
   "execution_count": null,
   "id": "6348f29c",
   "metadata": {},
   "outputs": [],
   "source": [
    "data_1 = test_encoder_normal\n",
    "data_2 = test_encoder_abnormal\n",
    "stats.mannwhitneyu(data_1, data_2)"
   ]
  },
  {
   "cell_type": "code",
   "execution_count": null,
   "id": "d1acd73d",
   "metadata": {},
   "outputs": [],
   "source": [
    "stats.norm()"
   ]
  },
  {
   "cell_type": "code",
   "execution_count": null,
   "id": "dcec8b75",
   "metadata": {},
   "outputs": [],
   "source": [
    "data = train_encoder_normal\n",
    "for i in range(1, data.shape[0]):\n",
    "    sm.qqplot(min_max_scaler(data, 1, -1), dist=stats.chi2(i))\n",
    "    ax = plt.gca()\n",
    "    plt.plot(ax.get_xlim(), ax.get_ylim(), color=\"r\")\n",
    "    input(\"Degree of freedom {}\".format(i))\n",
    "    clear_output()\n",
    "    plt.close()"
   ]
  },
  {
   "cell_type": "markdown",
   "id": "indoor-satin",
   "metadata": {},
   "source": [
    "### Test graphics"
   ]
  },
  {
   "cell_type": "markdown",
   "id": "stone-panic",
   "metadata": {},
   "source": [
    "#### Box plots"
   ]
  },
  {
   "cell_type": "code",
   "execution_count": null,
   "id": "desperate-lease",
   "metadata": {
    "scrolled": false
   },
   "outputs": [],
   "source": [
    "save_path = os.path.join(experiment_folder, \"outputs/graphics/qualitative/\")\n",
    "rows = 1\n",
    "columns = 3\n",
    "fig, axs = plt.subplots(rows, columns, figsize=(15, 10))\n",
    "for i, t in enumerate([\"encoder\", \"contextual\", \"adversarial\"]):\n",
    "    data = \"test_{}_\".format(t)\n",
    "    axs[i].boxplot([globals()[data+\"normal\"], globals()[data+\"abnormal\"]], labels=['Normal', 'Abnormal'])\n",
    "    axs[i].set_title(\"{} errors\".format(t))\n",
    "\n",
    "filename = 'test_boxplot.png'\n",
    "fig.savefig(save_path+filename)\n",
    "plt.close(fig)"
   ]
  },
  {
   "cell_type": "markdown",
   "id": "charged-multimedia",
   "metadata": {},
   "source": [
    "#### QQ plots"
   ]
  },
  {
   "cell_type": "code",
   "execution_count": null,
   "id": "atlantic-assignment",
   "metadata": {},
   "outputs": [],
   "source": [
    "save_path = os.path.join(experiment_folder, \"outputs/graphics/qualitative/\")\n",
    "for t in [\"encoder\", \"contextual\", \"adversarial\"]:\n",
    "    for c in [\"normal\", \"abnormal\"]:\n",
    "        generate_qq_plot(globals()[\"test_{}_{}\".format(t,c)], save_path, \"test_{}_{}\".format(t,c))"
   ]
  },
  {
   "cell_type": "markdown",
   "id": "12d353b8",
   "metadata": {},
   "source": [
    "### All data graphics"
   ]
  },
  {
   "cell_type": "markdown",
   "id": "a55d922f",
   "metadata": {},
   "source": [
    "#### Box plots"
   ]
  },
  {
   "cell_type": "code",
   "execution_count": null,
   "id": "5ed03976",
   "metadata": {},
   "outputs": [],
   "source": [
    "save_path = os.path.join(experiment_folder, \"outputs/graphics/qualitative/\")\n",
    "rows = 1\n",
    "columns = 3\n",
    "fig, axs = plt.subplots(rows, columns, figsize=(15, 10))\n",
    "for i, t in enumerate([\"encoder\", \"contextual\", \"adversarial\"]):\n",
    "    data = \"all_{}_\".format(t)\n",
    "    axs[i].boxplot([globals()[data+\"normal\"], globals()[data+\"abnormal\"]], labels=['Normal', 'Abnormal'])\n",
    "    axs[i].set_title(\"{} errors\".format(t))\n",
    "\n",
    "filename = 'all_data_boxplot.png'\n",
    "fig.savefig(save_path+filename)\n",
    "plt.close(fig)"
   ]
  },
  {
   "cell_type": "markdown",
   "id": "291b27c9",
   "metadata": {},
   "source": [
    "#### QQ plots"
   ]
  },
  {
   "cell_type": "code",
   "execution_count": null,
   "id": "c433e281",
   "metadata": {},
   "outputs": [],
   "source": [
    "save_path = os.path.join(experiment_folder, \"outputs/graphics/qualitative/\")\n",
    "for t in [\"encoder\", \"contextual\", \"adversarial\"]:\n",
    "    for c in [\"normal\", \"abnormal\"]:\n",
    "        generate_qq_plot(globals()[\"all_{}_{}\".format(t,c)], save_path, \"all_data_{}_{}\".format(t,c))"
   ]
  },
  {
   "cell_type": "markdown",
   "id": "general-hudson",
   "metadata": {},
   "source": [
    "## Visual results"
   ]
  },
  {
   "cell_type": "markdown",
   "id": "cultural-volume",
   "metadata": {},
   "source": [
    "### UMAP latent vectors"
   ]
  },
  {
   "cell_type": "code",
   "execution_count": null,
   "id": "yellow-alliance",
   "metadata": {},
   "outputs": [],
   "source": [
    "base_path = os.path.join(experiment_folder, \"outputs/latent_vectors/\")\n",
    "for t in [\"in\", \"out\"]:\n",
    "    for m in [\"train\", \"test\"]:\n",
    "        classes = [\"normal\"] if m == \"train\" else [\"normal\", \"abnormal\"]\n",
    "        for c in classes:\n",
    "            all_data = \"all_{}_{}\".format(t, c)\n",
    "            if all_data not in globals().keys():\n",
    "                globals()[all_data] = []\n",
    "            \n",
    "            data = \"{}_{}_{}\".format(m, t, c)\n",
    "            globals()[data] = []\n",
    "            path = os.path.join(base_path, t, m, c)\n",
    "            for file in sorted(os.listdir(path)):\n",
    "                vector = np.load(os.path.join(path, file))\n",
    "                globals()[data].append(vector)\n",
    "                globals()[all_data].append(vector)\n",
    "            globals()[data] = np.r_[globals()[data]]\n",
    "for t in [\"in\", \"out\"]:\n",
    "    for c in [\"normal\", \"abnormal\"]:\n",
    "        all_data = \"all_{}_{}\".format(t, c)\n",
    "        globals()[all_data] = np.r_[globals()[all_data]]"
   ]
  },
  {
   "cell_type": "code",
   "execution_count": null,
   "id": "apparent-sector",
   "metadata": {},
   "outputs": [],
   "source": [
    "save_path = os.path.join(experiment_folder, \"outputs/graphics/visuals/\")\n",
    "for t in [\"in\", \"out\"]:\n",
    "    for m in [\"train\", \"test\", \"all\"]:\n",
    "        classes = [\"normal\"] if m == \"train\" else [\"normal\", \"abnormal\"]\n",
    "        globals()[\"{}_mapped_{}\".format(m, t)] = umap.UMAP(random_state = 8128).fit_transform(np.concatenate(\n",
    "                [globals()[\"{}_{}_{}\".format(m, t, c)] for c in classes], axis=0\n",
    "            )\n",
    "        )\n",
    "        \n",
    "        divisor = globals()[\"{}_{}_normal\".format(m, t)].shape[0]\n",
    "        plt.scatter(globals()[\"{}_mapped_{}\".format(m, t)][:divisor,0],\n",
    "            globals()[\"{}_mapped_{}\".format(m, t)][:divisor,1], color=\"blue\", s=5, label=\"Normal\"\n",
    "        )\n",
    "        if \"abnormal\" in classes:\n",
    "            plt.scatter(globals()[\"{}_mapped_{}\".format(m, t)][divisor:,0],\n",
    "                globals()[\"{}_mapped_{}\".format(m, t)][divisor:,1], color=\"red\", s=5, label=\"Abnormal\"\n",
    "            )\n",
    "        plt.legend()\n",
    "        plt.title(\"UMAP for {}put data in {}\".format(t, m))\n",
    "        filename = '{}_umap_{}put.png'.format(m, t)\n",
    "        plt.savefig(save_path+filename)\n",
    "        plt.close()"
   ]
  },
  {
   "cell_type": "markdown",
   "id": "younger-forth",
   "metadata": {},
   "source": [
    "### Video comparision"
   ]
  },
  {
   "cell_type": "code",
   "execution_count": null,
   "id": "3cb2e5a1",
   "metadata": {},
   "outputs": [],
   "source": [
    "def show_all_data(volumes):\n",
    "    frame_slider = IntSlider(value=32, min=1, max=volumes[0].shape[0], step=1)\n",
    "    volume_slider = IntSlider(min=1, max=len(volumes), step=1)\n",
    "\n",
    "    def update_frame_max(*args):\n",
    "        frame_slider.max = len(sorted(os.listdir(path)))\n",
    "    volume_slider.observe(update_frame_max, 'value')\n",
    "\n",
    "    interact(lambda volume, frame: plt.imshow(volumes[volume-1][frame-1,:,:,1], cmap=\"gray\"), \n",
    "             volume=volume_slider, frame=frame_slider\n",
    "    );\n",
    "show_all_data(classes[0])"
   ]
  },
  {
   "cell_type": "code",
   "execution_count": null,
   "id": "narrow-classroom",
   "metadata": {
    "scrolled": false
   },
   "outputs": [],
   "source": [
    "for i in range(0, 88):\n",
    "    video_index = i\n",
    "    mode = \"test\"\n",
    "    video_class = \"abnormal\"\n",
    "\n",
    "    base_path = os.path.join(experiment_folder, \"outputs/samples/\")\n",
    "    for t in [\"real\", \"fake\", \"substraction\"]:\n",
    "        path = os.path.join(base_path, t, mode, video_class)\n",
    "        video = sorted(os.listdir(path))[video_index]\n",
    "        data = \"video_{}\".format(t)\n",
    "        globals()[data] = []\n",
    "        for frame in sorted(os.listdir(os.path.join(path, video))):\n",
    "            globals()[data].append(cv2.cvtColor(\n",
    "                cv2.imread(\n",
    "                    os.path.join(path, video, frame)\n",
    "                ), cv2.COLOR_BGR2RGB\n",
    "            ))\n",
    "        globals()[data] = np.r_[globals()[data]]  \n",
    "\n",
    "    assert video_real.shape[0] == video_fake.shape[0] == video_substraction.shape[0]\n",
    "\n",
    "    widget = IntSlider(value=32, min=1, max=video_real.shape[0], step=1)\n",
    "\n",
    "    interact(lambda frame: plt.imshow(video_real[frame-1]), frame=widget)\n",
    "    interact(lambda frame: plt.imshow(video_fake[frame-1]), frame=widget)\n",
    "    interact(lambda frame: plt.imshow(video_substraction[frame-1]), frame=widget)\n",
    "    input(\"indice actual: {}\".format(i))\n",
    "    clear_output()"
   ]
  }
 ],
 "metadata": {
  "kernelspec": {
   "display_name": "Python 3 (ipykernel)",
   "language": "python",
   "name": "python3"
  },
  "language_info": {
   "codemirror_mode": {
    "name": "ipython",
    "version": 3
   },
   "file_extension": ".py",
   "mimetype": "text/x-python",
   "name": "python",
   "nbconvert_exporter": "python",
   "pygments_lexer": "ipython3",
   "version": "3.8.10"
  }
 },
 "nbformat": 4,
 "nbformat_minor": 5
}
