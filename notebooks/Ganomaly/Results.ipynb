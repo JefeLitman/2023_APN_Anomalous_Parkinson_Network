{
 "cells": [
  {
   "cell_type": "markdown",
   "id": "endangered-assets",
   "metadata": {},
   "source": [
    "# GANomaly Notebook Results"
   ]
  },
  {
   "cell_type": "markdown",
   "id": "embedded-billy",
   "metadata": {},
   "source": [
    "## Initial Configurations"
   ]
  },
  {
   "cell_type": "markdown",
   "id": "protected-meter",
   "metadata": {},
   "source": [
    "### Libraries import"
   ]
  },
  {
   "cell_type": "code",
   "execution_count": 1,
   "id": "ignored-motorcycle",
   "metadata": {},
   "outputs": [],
   "source": [
    "import os\n",
    "import sys\n",
    "import random\n",
    "import numpy as np\n",
    "import pandas as pd\n",
    "from scipy import stats\n",
    "import matplotlib.pyplot as plt\n",
    "import umap\n",
    "import cv2\n",
    "from IPython.display import display\n",
    "from ipywidgets import interact, IntSlider\n",
    "\n",
    "sys.path.append(\"../../\")"
   ]
  },
  {
   "cell_type": "code",
   "execution_count": 2,
   "id": "bored-portuguese",
   "metadata": {},
   "outputs": [],
   "source": [
    "from utils.metrics import shapiroWilks_test, dagostinoPearson_test, bartlett_test, levene_test, fOneWay_test\n",
    "from utils.savers import generate_qq_plot"
   ]
  },
  {
   "cell_type": "markdown",
   "id": "labeled-audit",
   "metadata": {},
   "source": [
    "## Quantitative metrics"
   ]
  },
  {
   "cell_type": "markdown",
   "id": "norwegian-decline",
   "metadata": {},
   "source": [
    "### Metrics loading"
   ]
  },
  {
   "cell_type": "code",
   "execution_count": 3,
   "id": "optimum-genetics",
   "metadata": {},
   "outputs": [
    {
     "data": {
      "text/plain": [
       "(epoch              29999\n",
       "  gen_error       164.954\n",
       "  disc_error      7.62462\n",
       "  accuracy       0.930556\n",
       "  precision             0\n",
       "  recall              nan\n",
       "  specificity    0.930556\n",
       "  f1_score              0\n",
       "  auc                   0\n",
       " dtype: object,\n",
       " epoch                  0\n",
       "  gen_error      0.530382\n",
       "  disc_error      7.62462\n",
       "  accuracy       0.416667\n",
       "  precision             0\n",
       "  recall              nan\n",
       "  specificity    0.416667\n",
       "  f1_score              0\n",
       "  auc                   0\n",
       " dtype: object,\n",
       " array([29999, 0.5910592675209045, 7.624619007110597, 0.6111111044883728,\n",
       "        0.0, ' nan', 0.6111111044883728, 0.0, 0.0], dtype=object))"
      ]
     },
     "execution_count": 3,
     "metadata": {},
     "output_type": "execute_result"
    }
   ],
   "source": [
    "train_metrics = pd.read_csv(\"/home/jefelitman/Saved_Models/Anomaly_parkinson/0005_Ganomaly_3D-64x64x64x3/metrics/train.csv\")\n",
    "data = train_metrics\n",
    "np.max(data, axis=0), np.min(data, axis=0), data.to_numpy()[-1]"
   ]
  },
  {
   "cell_type": "code",
   "execution_count": 4,
   "id": "confidential-guest",
   "metadata": {},
   "outputs": [
    {
     "data": {
      "text/plain": [
       "(epoch           29999.000000\n",
       "  accuracy           0.903846\n",
       "  precision          1.000000\n",
       "  recall             0.886364\n",
       "  specificity        1.000000\n",
       "  f1_score           0.939759\n",
       "  auc                1.000000\n",
       " dtype: float64,\n",
       " epoch           0.000000\n",
       "  accuracy       0.125000\n",
       "  precision      0.363636\n",
       "  recall         0.045455\n",
       "  specificity    0.250000\n",
       "  f1_score       0.080808\n",
       "  auc            0.113991\n",
       " dtype: float64,\n",
       " array([2.99990000e+04, 3.84615391e-01, 1.00000000e+00, 2.72727281e-01,\n",
       "        1.00000000e+00, 4.28571429e-01, 1.00000000e+00]))"
      ]
     },
     "execution_count": 4,
     "metadata": {},
     "output_type": "execute_result"
    }
   ],
   "source": [
    "test_metrics = pd.read_csv(\"/home/jefelitman/Saved_Models/Anomaly_parkinson/0005_Ganomaly_3D-64x64x64x3/metrics/test.csv\")\n",
    "data = test_metrics\n",
    "np.max(data, axis=0), np.min(data, axis=0), data.to_numpy()[-1]"
   ]
  },
  {
   "cell_type": "code",
   "execution_count": null,
   "id": "british-handle",
   "metadata": {},
   "outputs": [],
   "source": [
    "data = test_metrics\n",
    "np.max(data, axis=0), np.min(data, axis=0), data.to_numpy()[-1]"
   ]
  },
  {
   "cell_type": "markdown",
   "id": "blessed-columbia",
   "metadata": {},
   "source": [
    "### Train Graphics"
   ]
  },
  {
   "cell_type": "code",
   "execution_count": null,
   "id": "completed-round",
   "metadata": {},
   "outputs": [],
   "source": [
    "path = '/home/jefelitman/Saved_Models/Anomaly_parkinson/0005_Ganomaly_3D-64x64x64x3/outputs/graphics/quantitative/'\n",
    "portions = 500\n",
    "rows = 12\n",
    "columns = 5\n",
    "for metric in [\" gen_error\", \" disc_error\", \" accuracy\", \" specificity\"]:\n",
    "    fig, axs = plt.subplots(rows, columns, figsize=(15, 10))\n",
    "    fig.suptitle('{} over Epochs'.format(metric[1:]))\n",
    "    for i in range(rows):\n",
    "        for j in range(columns):\n",
    "            axs[i, j].plot(train_metrics[metric][(i*columns+j)*portions:(i*columns+j+1)*portions])\n",
    "            filename = 'train_{}.png'.format(metric[1:])\n",
    "    fig.savefig(path+filename)\n",
    "    plt.close(fig)"
   ]
  },
  {
   "cell_type": "markdown",
   "id": "latin-giant",
   "metadata": {},
   "source": [
    "### Test graphics"
   ]
  },
  {
   "cell_type": "code",
   "execution_count": null,
   "id": "least-melissa",
   "metadata": {},
   "outputs": [],
   "source": [
    "path = '/home/jefelitman/Saved_Models/Anomaly_parkinson/0005_Ganomaly_3D-64x64x64x3/outputs/graphics/quantitative/'\n",
    "portions = 500\n",
    "rows = 12\n",
    "columns = 5\n",
    "for metric in test_metrics.columns[1:]:\n",
    "    fig, axs = plt.subplots(rows, columns, figsize=(15, 10))\n",
    "    fig.suptitle('{} over Epochs'.format(metric[1:]))\n",
    "    for i in range(rows):\n",
    "        for j in range(columns):\n",
    "            axs[i, j].plot(test_metrics[metric][(i*columns+j)*portions:(i*columns+j+1)*portions])\n",
    "            filename = 'test_{}.png'.format(metric[1:])\n",
    "    fig.savefig(path+filename)\n",
    "    plt.close(fig)"
   ]
  },
  {
   "cell_type": "markdown",
   "id": "olympic-recipient",
   "metadata": {},
   "source": [
    "## Qualitative metrics"
   ]
  },
  {
   "cell_type": "markdown",
   "id": "french-handy",
   "metadata": {},
   "source": [
    "### Errors loading"
   ]
  },
  {
   "cell_type": "code",
   "execution_count": null,
   "id": "configured-tyler",
   "metadata": {},
   "outputs": [],
   "source": [
    "base_path = '/home/jefelitman/Saved_Models/Anomaly_parkinson/0005_Ganomaly_3D-64x64x64x3/outputs/errors/'\n",
    "\n",
    "for t in [\"encoder\", \"contextual\", \"adversarial\"]:\n",
    "    for m in [\"train\", \"test\"]:\n",
    "        classes = [\"normal\"] if m == \"train\" else [\"normal\", \"abnormal\"]\n",
    "        for c in classes:\n",
    "            globals()[\"{}_{}_{}\".format(m, t, c)] = np.load(\n",
    "                os.path.join(base_path, t, m, c+\".npy\")\n",
    "            )"
   ]
  },
  {
   "cell_type": "markdown",
   "id": "dynamic-remains",
   "metadata": {},
   "source": [
    "### Train means and stds"
   ]
  },
  {
   "cell_type": "code",
   "execution_count": null,
   "id": "disciplinary-label",
   "metadata": {},
   "outputs": [],
   "source": [
    "for t in [\"encoder\", \"contextual\", \"adversarial\"]:\n",
    "    for c in [\"normal\"]:\n",
    "        data = globals()[\"train_{}_{}\".format(t,c)]\n",
    "        print(\"{i} error ({j}): {m} +- {s}\".format(\n",
    "            i = t,\n",
    "            j = c,\n",
    "            m = np.mean(data),\n",
    "            s = np.std(data)\n",
    "        ))\n",
    "    print(\"\")"
   ]
  },
  {
   "cell_type": "markdown",
   "id": "opponent-status",
   "metadata": {},
   "source": [
    "### Train statistical tests"
   ]
  },
  {
   "cell_type": "code",
   "execution_count": null,
   "id": "continuing-installation",
   "metadata": {},
   "outputs": [],
   "source": [
    "for t in [\"encoder\", \"contextual\", \"adversarial\"]:\n",
    "    for c in [\"normal\"]:\n",
    "        print(\"-------------------------------------------------\")\n",
    "        data = globals()[\"train_{}_{}\".format(t,c)]\n",
    "        norm_dist = stats.norm.rvs(loc=0, scale=1, size=data.shape)\n",
    "        print(\"D'agostino-Pearson test for {i} ({j}): {m}\".format(\n",
    "            i = t,\n",
    "            j = c,\n",
    "            m = dagostinoPearson_test(data)\n",
    "        ))\n",
    "        print(\"Shapiro-Wilks test for {i} ({j}): {m}\".format(\n",
    "            i = t,\n",
    "            j = c,\n",
    "            m = shapiroWilks_test(data)\n",
    "        ))\n",
    "        print(\"Barlett test for {i} ({j}): {m}\".format(\n",
    "            i = t,\n",
    "            j = c,\n",
    "            m = bartlett_test(data, norm_dist)\n",
    "        ))\n",
    "        print(\"Levene test for {i} ({j}): {m}\".format(\n",
    "            i = t,\n",
    "            j = c,\n",
    "            m = levene_test(data, norm_dist)\n",
    "        ))\n",
    "        print(\"F1 test for {i} ({j}): {m}\".format(\n",
    "            i = t,\n",
    "            j = c,\n",
    "            m = fOneWay_test(data, norm_dist)\n",
    "        ))\n",
    "        print(\"-------------------------------------------------\")\n",
    "    print(\"\")"
   ]
  },
  {
   "cell_type": "markdown",
   "id": "outside-indian",
   "metadata": {},
   "source": [
    "### Test means and stds"
   ]
  },
  {
   "cell_type": "code",
   "execution_count": null,
   "id": "tired-jacob",
   "metadata": {},
   "outputs": [],
   "source": [
    "for t in [\"encoder\", \"contextual\", \"adversarial\"]:\n",
    "    for c in [\"normal\", \"abnormal\"]:\n",
    "        data = globals()[\"test_{}_{}\".format(t,c)]\n",
    "        print(\"{i} error ({j}): {m} +- {s}\".format(\n",
    "            i = t,\n",
    "            j = c,\n",
    "            m = np.mean(data),\n",
    "            s = np.std(data)\n",
    "        ))\n",
    "    print(\"\")"
   ]
  },
  {
   "cell_type": "markdown",
   "id": "electronic-remove",
   "metadata": {},
   "source": [
    "### Test statistical tests"
   ]
  },
  {
   "cell_type": "code",
   "execution_count": null,
   "id": "funny-duncan",
   "metadata": {},
   "outputs": [],
   "source": [
    "for t in [\"encoder\", \"contextual\", \"adversarial\"]:\n",
    "    for c in [\"normal\", \"abnormal\"]:\n",
    "        print(\"-------------------------------------------------\")\n",
    "        data = globals()[\"test_{}_{}\".format(t,c)]\n",
    "        norm_dist = stats.norm.rvs(loc=0, scale=1, size=data.shape)\n",
    "        print(\"D'agostino-Pearson test for {i} ({j}): {m}\".format(\n",
    "            i = t,\n",
    "            j = c,\n",
    "            m = dagostinoPearson_test(data)\n",
    "        ))\n",
    "        print(\"Shapiro-Wilks test for {i} ({j}): {m}\".format(\n",
    "            i = t,\n",
    "            j = c,\n",
    "            m = shapiroWilks_test(data)\n",
    "        ))\n",
    "        print(\"Barlett test for {i} ({j}): {m}\".format(\n",
    "            i = t,\n",
    "            j = c,\n",
    "            m = bartlett_test(data, norm_dist)\n",
    "        ))\n",
    "        print(\"Levene test for {i} ({j}): {m}\".format(\n",
    "            i = t,\n",
    "            j = c,\n",
    "            m = levene_test(data, norm_dist)\n",
    "        ))\n",
    "        print(\"F1 test for {i} ({j}): {m}\".format(\n",
    "            i = t,\n",
    "            j = c,\n",
    "            m = fOneWay_test(data, norm_dist)\n",
    "        ))\n",
    "        print(\"-------------------------------------------------\")\n",
    "    print(\"\")"
   ]
  },
  {
   "cell_type": "markdown",
   "id": "minus-processor",
   "metadata": {},
   "source": [
    "### Train graphics"
   ]
  },
  {
   "cell_type": "markdown",
   "id": "split-merchandise",
   "metadata": {},
   "source": [
    "#### QQ plots"
   ]
  },
  {
   "cell_type": "code",
   "execution_count": null,
   "id": "motivated-plant",
   "metadata": {},
   "outputs": [],
   "source": [
    "save_path = '/home/jefelitman/Saved_Models/Anomaly_parkinson/0005_Ganomaly_3D-64x64x64x3/outputs/graphics/qualitative/'\n",
    "for t in [\"encoder\", \"contextual\", \"adversarial\"]:\n",
    "    for c in [\"normal\"]:\n",
    "        generate_qq_plot(globals()[\"train_{}_{}\".format(t,c)], save_path, \"train_{}_{}\".format(t,c))"
   ]
  },
  {
   "cell_type": "markdown",
   "id": "indoor-satin",
   "metadata": {},
   "source": [
    "### Test graphics"
   ]
  },
  {
   "cell_type": "markdown",
   "id": "stone-panic",
   "metadata": {},
   "source": [
    "#### Box plots"
   ]
  },
  {
   "cell_type": "code",
   "execution_count": null,
   "id": "desperate-lease",
   "metadata": {
    "scrolled": false
   },
   "outputs": [],
   "source": [
    "save_path = '/home/jefelitman/Saved_Models/Anomaly_parkinson/0005_Ganomaly_3D-64x64x64x3/outputs/graphics/qualitative/'\n",
    "rows = 1\n",
    "columns = 3\n",
    "fig, axs = plt.subplots(rows, columns, figsize=(15, 10))\n",
    "for i, t in enumerate([\"encoder\", \"contextual\", \"adversarial\"]):\n",
    "    data = \"test_{}_\".format(t)\n",
    "    axs[i].boxplot([globals()[data+\"normal\"], globals()[data+\"abnormal\"]], labels=['Normal', 'Abnormal'])\n",
    "    axs[i].set_title(\"{} errors\".format(t))\n",
    "\n",
    "filename = 'test_boxplot.png'\n",
    "fig.savefig(save_path+filename)\n",
    "plt.close(fig)"
   ]
  },
  {
   "cell_type": "markdown",
   "id": "charged-multimedia",
   "metadata": {},
   "source": [
    "#### QQ plots"
   ]
  },
  {
   "cell_type": "code",
   "execution_count": null,
   "id": "atlantic-assignment",
   "metadata": {},
   "outputs": [],
   "source": [
    "save_path = '/home/jefelitman/Saved_Models/Anomaly_parkinson/0005_Ganomaly_3D-64x64x64x3/outputs/graphics/qualitative/'\n",
    "for t in [\"encoder\", \"contextual\", \"adversarial\"]:\n",
    "    for c in [\"normal\", \"abnormal\"]:\n",
    "        generate_qq_plot(globals()[\"test_{}_{}\".format(t,c)], save_path, \"test_{}_{}\".format(t,c))"
   ]
  },
  {
   "cell_type": "markdown",
   "id": "general-hudson",
   "metadata": {},
   "source": [
    "## Visual results"
   ]
  },
  {
   "cell_type": "markdown",
   "id": "cultural-volume",
   "metadata": {},
   "source": [
    "### UMAP latent vectors"
   ]
  },
  {
   "cell_type": "code",
   "execution_count": null,
   "id": "yellow-alliance",
   "metadata": {},
   "outputs": [],
   "source": [
    "base_path = '/home/jefelitman/Saved_Models/Anomaly_parkinson/0005_Ganomaly_3D-64x64x64x3/outputs/latent_vectors/'\n",
    "\n",
    "for t in [\"in\", \"out\"]:\n",
    "    for m in [\"train\", \"test\"]:\n",
    "        classes = [\"normal\"] if m == \"train\" else [\"normal\", \"abnormal\"]\n",
    "        for c in classes:\n",
    "            data = \"{}_{}_{}\".format(m, t, c)\n",
    "            globals()[data] = []\n",
    "            path = os.path.join(base_path, t, m, c)\n",
    "            for file in sorted(os.listdir(path)):\n",
    "                globals()[data].append(\n",
    "                    np.load(os.path.join(path, file))\n",
    "                )\n",
    "            globals()[data] = np.r_[globals()[data]]"
   ]
  },
  {
   "cell_type": "code",
   "execution_count": null,
   "id": "apparent-sector",
   "metadata": {},
   "outputs": [],
   "source": [
    "save_path = \"/home/jefelitman/Saved_Models/Anomaly_parkinson/0005_Ganomaly_3D-64x64x64x3/outputs/graphics/visuals/\"\n",
    "for t in [\"in\", \"out\"]:\n",
    "    for m in [\"train\", \"test\"]:\n",
    "        classes = [\"normal\"] if m == \"train\" else [\"normal\", \"abnormal\"]\n",
    "        globals()[\"{}_mapped_{}\".format(m, t)] = umap.UMAP(random_state = 8128).fit_transform(np.concatenate(\n",
    "                [globals()[\"{}_{}_{}\".format(m, t, c)] for c in classes], axis=0\n",
    "            )\n",
    "        )\n",
    "        \n",
    "        divisor = globals()[\"{}_{}_normal\".format(m, t)].shape[0]\n",
    "        plt.scatter(globals()[\"{}_mapped_{}\".format(m, t)][:divisor,0],\n",
    "            globals()[\"{}_mapped_{}\".format(m, t)][:divisor,1], color=\"blue\", s=0.5, label=\"Normal\"\n",
    "        )\n",
    "        if \"abnormal\" in classes:\n",
    "            plt.scatter(globals()[\"{}_mapped_{}\".format(m, t)][divisor:,0],\n",
    "                globals()[\"{}_mapped_{}\".format(m, t)][divisor:,1], color=\"red\", s=0.5, label=\"Abnormal\"\n",
    "            )\n",
    "        plt.legend()\n",
    "        plt.title(\"UMAP for {}put data in {}\".format(t, m))\n",
    "        filename = '{}_umap_{}put.png'.format(m, t)\n",
    "        plt.savefig(save_path+filename)\n",
    "        plt.close()"
   ]
  },
  {
   "cell_type": "markdown",
   "id": "younger-forth",
   "metadata": {},
   "source": [
    "### Video comparision"
   ]
  },
  {
   "cell_type": "code",
   "execution_count": 7,
   "id": "narrow-classroom",
   "metadata": {},
   "outputs": [],
   "source": [
    "video_index = 2\n",
    "mode = \"test\"\n",
    "video_class = \"abnormal\"\n",
    "\n",
    "base_path = \"/home/jefelitman/Saved_Models/Anomaly_parkinson/0005_Ganomaly_3D-64x64x64x3/outputs/samples/\"\n",
    "for t in [\"real\", \"fake\", \"substraction\"]:\n",
    "    path = os.path.join(base_path, t, mode, video_class)\n",
    "    video = sorted(os.listdir(path))[video_index]\n",
    "    data = \"video_{}\".format(t)\n",
    "    globals()[data] = []\n",
    "    for frame in sorted(os.listdir(os.path.join(path, video))):\n",
    "        globals()[data].append(cv2.cvtColor(\n",
    "            cv2.imread(\n",
    "                os.path.join(path, video, frame)\n",
    "            ), cv2.COLOR_BGR2RGB\n",
    "        ))\n",
    "    globals()[data] = np.r_[globals()[data]]"
   ]
  },
  {
   "cell_type": "code",
   "execution_count": 8,
   "id": "homeless-monroe",
   "metadata": {},
   "outputs": [
    {
     "data": {
      "application/vnd.jupyter.widget-view+json": {
       "model_id": "e658f08ad420491193bfc5d7b94d7608",
       "version_major": 2,
       "version_minor": 0
      },
      "text/plain": [
       "interactive(children=(IntSlider(value=1, description='frame', max=64, min=1), Output()), _dom_classes=('widget…"
      ]
     },
     "metadata": {},
     "output_type": "display_data"
    },
    {
     "data": {
      "application/vnd.jupyter.widget-view+json": {
       "model_id": "57d1cc9fe10540a28028599a8ec707a0",
       "version_major": 2,
       "version_minor": 0
      },
      "text/plain": [
       "interactive(children=(IntSlider(value=1, description='frame', max=64, min=1), Output()), _dom_classes=('widget…"
      ]
     },
     "metadata": {},
     "output_type": "display_data"
    },
    {
     "data": {
      "application/vnd.jupyter.widget-view+json": {
       "model_id": "30d6d4976a0744f4b592472f0069a036",
       "version_major": 2,
       "version_minor": 0
      },
      "text/plain": [
       "interactive(children=(IntSlider(value=1, description='frame', max=64, min=1), Output()), _dom_classes=('widget…"
      ]
     },
     "metadata": {},
     "output_type": "display_data"
    },
    {
     "data": {
      "text/plain": [
       "<function __main__.<lambda>(frame)>"
      ]
     },
     "execution_count": 8,
     "metadata": {},
     "output_type": "execute_result"
    }
   ],
   "source": [
    "assert video_real.shape[0] == video_fake.shape[0] == video_substraction.shape[0]\n",
    "\n",
    "widget = IntSlider(min=1, max=video_real.shape[0], step=1)\n",
    "\n",
    "interact(lambda frame: plt.imshow(video_real[frame-1]), frame=widget)\n",
    "interact(lambda frame: plt.imshow(video_fake[frame-1]), frame=widget)\n",
    "interact(lambda frame: plt.imshow(video_substraction[frame-1]), frame=widget)"
   ]
  }
 ],
 "metadata": {
  "kernelspec": {
   "display_name": "Python 3",
   "language": "python",
   "name": "python3"
  },
  "language_info": {
   "codemirror_mode": {
    "name": "ipython",
    "version": 3
   },
   "file_extension": ".py",
   "mimetype": "text/x-python",
   "name": "python",
   "nbconvert_exporter": "python",
   "pygments_lexer": "ipython3",
   "version": "3.6.9"
  }
 },
 "nbformat": 4,
 "nbformat_minor": 5
}
