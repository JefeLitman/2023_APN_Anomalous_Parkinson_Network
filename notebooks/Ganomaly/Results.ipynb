{
 "cells": [
  {
   "cell_type": "markdown",
   "id": "endangered-assets",
   "metadata": {},
   "source": [
    "# GANomaly Notebook Results"
   ]
  },
  {
   "cell_type": "markdown",
   "id": "embedded-billy",
   "metadata": {},
   "source": [
    "## Initial Configurations"
   ]
  },
  {
   "cell_type": "markdown",
   "id": "protected-meter",
   "metadata": {},
   "source": [
    "### Libraries import"
   ]
  },
  {
   "cell_type": "code",
   "execution_count": 1,
   "id": "ignored-motorcycle",
   "metadata": {},
   "outputs": [],
   "source": [
    "import os\n",
    "import sys\n",
    "import random\n",
    "import numpy as np\n",
    "import pandas as pd\n",
    "from scipy import stats\n",
    "import matplotlib.pyplot as plt\n",
    "import umap\n",
    "import cv2\n",
    "from IPython.display import display, clear_output\n",
    "from ipywidgets import interact, IntSlider\n",
    "\n",
    "sys.path.append(\"../../\")"
   ]
  },
  {
   "cell_type": "code",
   "execution_count": 2,
   "id": "bored-portuguese",
   "metadata": {},
   "outputs": [],
   "source": [
    "from utils.metrics import shapiroWilks_test, dagostinoPearson_test, bartlett_test, levene_test, fOneWay_test\n",
    "from utils.savers import generate_qq_plot"
   ]
  },
  {
   "cell_type": "markdown",
   "id": "1eec12b3",
   "metadata": {},
   "source": [
    "### Experiment selection"
   ]
  },
  {
   "cell_type": "code",
   "execution_count": 3,
   "id": "5551c490",
   "metadata": {},
   "outputs": [
    {
     "data": {
      "text/plain": [
       "'/home/jefelitman/Saved_Models/Anomaly_parkinson/0009_Ganomaly_2D-64x64x64'"
      ]
     },
     "execution_count": 3,
     "metadata": {},
     "output_type": "execute_result"
    }
   ],
   "source": [
    "experiment_id = \"0009\"\n",
    "root_path = \"/home/jefelitman/Saved_Models/Anomaly_parkinson/\"\n",
    "for i in sorted(os.listdir(\"/home/jefelitman/Saved_Models/Anomaly_parkinson/\")):\n",
    "    if experiment_id in i:\n",
    "        experiment_folder = os.path.join(root_path, i)\n",
    "experiment_folder"
   ]
  },
  {
   "cell_type": "markdown",
   "id": "labeled-audit",
   "metadata": {},
   "source": [
    "## Quantitative metrics"
   ]
  },
  {
   "cell_type": "markdown",
   "id": "norwegian-decline",
   "metadata": {},
   "source": [
    "### Metrics loading"
   ]
  },
  {
   "cell_type": "code",
   "execution_count": 4,
   "id": "optimum-genetics",
   "metadata": {},
   "outputs": [
    {
     "data": {
      "text/plain": [
       "(epoch          19999.000000\n",
       " gen_error         15.548076\n",
       " disc_error         7.712474\n",
       " accuracy           0.930556\n",
       " precision          0.000000\n",
       " recall                  NaN\n",
       " specificity        0.930556\n",
       " f1_score           0.000000\n",
       " auc                0.000000\n",
       " dtype: float64,\n",
       " epoch          0.000000\n",
       " gen_error      0.938026\n",
       " disc_error     1.449824\n",
       " accuracy       0.486111\n",
       " precision      0.000000\n",
       " recall              NaN\n",
       " specificity    0.486111\n",
       " f1_score       0.000000\n",
       " auc            0.000000\n",
       " dtype: float64,\n",
       "        epoch  gen_error  disc_error  accuracy  precision  recall  specificity  \\\n",
       " 19995  19995   0.987395    7.712474  0.791667        0.0     NaN     0.791667   \n",
       " 19996  19996   0.991793    7.712474  0.777778        0.0     NaN     0.777778   \n",
       " 19997  19997   0.956206    7.712474  0.763889        0.0     NaN     0.763889   \n",
       " 19998  19998   1.024322    7.712474  0.763889        0.0     NaN     0.763889   \n",
       " 19999  19999   1.011327    7.712474  0.791667        0.0     NaN     0.791667   \n",
       " \n",
       "        f1_score  auc  \n",
       " 19995       0.0  0.0  \n",
       " 19996       0.0  0.0  \n",
       " 19997       0.0  0.0  \n",
       " 19998       0.0  0.0  \n",
       " 19999       0.0  0.0  )"
      ]
     },
     "execution_count": 4,
     "metadata": {},
     "output_type": "execute_result"
    }
   ],
   "source": [
    "train_metrics = pd.read_csv(os.path.join(experiment_folder, \"metrics/train.csv\"))\n",
    "data = train_metrics\n",
    "np.max(data, axis=0), np.min(data, axis=0), data.tail()"
   ]
  },
  {
   "cell_type": "code",
   "execution_count": 5,
   "id": "confidential-guest",
   "metadata": {},
   "outputs": [
    {
     "data": {
      "text/plain": [
       "(epoch          19999.000000\n",
       " accuracy           0.942308\n",
       " precision          1.000000\n",
       " recall             0.931818\n",
       " specificity        1.000000\n",
       " f1_score           0.964706\n",
       " auc                1.000000\n",
       " dtype: float64,\n",
       " epoch          0.000000\n",
       " accuracy       0.096154\n",
       " precision      0.250000\n",
       " recall         0.034091\n",
       " specificity    0.437500\n",
       " f1_score       0.060000\n",
       " auc            0.159091\n",
       " dtype: float64,\n",
       "        epoch  accuracy  precision    recall  specificity  f1_score       auc\n",
       " 19995  19995  0.538462        1.0  0.454545          1.0  0.625000  1.000000\n",
       " 19996  19996  0.538462        1.0  0.454545          1.0  0.625000  1.000000\n",
       " 19997  19997  0.634615        1.0  0.568182          1.0  0.724638  0.994318\n",
       " 19998  19998  0.500000        1.0  0.409091          1.0  0.580645  0.994318\n",
       " 19999  19999  0.567308        1.0  0.488636          1.0  0.656489  1.000000)"
      ]
     },
     "execution_count": 5,
     "metadata": {},
     "output_type": "execute_result"
    }
   ],
   "source": [
    "test_metrics = pd.read_csv(os.path.join(experiment_folder, \"metrics/test.csv\"))\n",
    "data = test_metrics\n",
    "np.max(data, axis=0), np.min(data, axis=0), data.tail()"
   ]
  },
  {
   "cell_type": "markdown",
   "id": "blessed-columbia",
   "metadata": {},
   "source": [
    "### Train Graphics"
   ]
  },
  {
   "cell_type": "code",
   "execution_count": 6,
   "id": "completed-round",
   "metadata": {},
   "outputs": [],
   "source": [
    "path = os.path.join(experiment_folder, \"outputs/graphics/quantitative/\")\n",
    "portions = 500\n",
    "rows = 12\n",
    "columns = 5\n",
    "for metric in [\"gen_error\", \"disc_error\", \"accuracy\", \"specificity\"]:\n",
    "    fig, axs = plt.subplots(rows, columns, figsize=(30, 25))\n",
    "    fig.suptitle('{} over Epochs'.format(metric))\n",
    "    for i in range(rows):\n",
    "        for j in range(columns):\n",
    "            axs[i, j].plot(train_metrics[metric][(i*columns+j)*portions:(i*columns+j+1)*portions])\n",
    "            filename = 'train_{}.png'.format(metric)\n",
    "    fig.savefig(path+filename)\n",
    "    plt.close(fig)"
   ]
  },
  {
   "cell_type": "markdown",
   "id": "latin-giant",
   "metadata": {},
   "source": [
    "### Test graphics"
   ]
  },
  {
   "cell_type": "code",
   "execution_count": 7,
   "id": "least-melissa",
   "metadata": {},
   "outputs": [],
   "source": [
    "path = os.path.join(experiment_folder, \"outputs/graphics/quantitative/\")\n",
    "portions = 500\n",
    "rows = 12\n",
    "columns = 5\n",
    "for metric in test_metrics.columns[1:]:\n",
    "    fig, axs = plt.subplots(rows, columns, figsize=(30, 25))\n",
    "    fig.suptitle('{} over Epochs'.format(metric))\n",
    "    for i in range(rows):\n",
    "        for j in range(columns):\n",
    "            axs[i, j].plot(test_metrics[metric][(i*columns+j)*portions:(i*columns+j+1)*portions])\n",
    "            filename = 'test_{}.png'.format(metric)\n",
    "    fig.savefig(path+filename)\n",
    "    plt.close(fig)"
   ]
  },
  {
   "cell_type": "markdown",
   "id": "olympic-recipient",
   "metadata": {},
   "source": [
    "## Qualitative metrics"
   ]
  },
  {
   "cell_type": "markdown",
   "id": "french-handy",
   "metadata": {},
   "source": [
    "### Errors loading"
   ]
  },
  {
   "cell_type": "code",
   "execution_count": 8,
   "id": "configured-tyler",
   "metadata": {},
   "outputs": [],
   "source": [
    "base_path = os.path.join(experiment_folder, \"outputs/errors/\")\n",
    "for t in [\"encoder\", \"contextual\", \"adversarial\"]:\n",
    "    for m in [\"train\", \"test\"]:\n",
    "        classes = [\"normal\"] if m == \"train\" else [\"normal\", \"abnormal\"]\n",
    "        for c in classes:\n",
    "            all_data = \"all_{}_{}\".format(t, c)\n",
    "            if all_data not in globals().keys():\n",
    "                globals()[all_data] = np.r_[[]]\n",
    "            \n",
    "            errors = np.load(os.path.join(base_path, t, m, c+\".npy\"))\n",
    "            globals()[\"{}_{}_{}\".format(m, t, c)] = errors\n",
    "            globals()[all_data] = np.concatenate([globals()[all_data], errors])"
   ]
  },
  {
   "cell_type": "markdown",
   "id": "dynamic-remains",
   "metadata": {},
   "source": [
    "### Train means and stds"
   ]
  },
  {
   "cell_type": "code",
   "execution_count": 9,
   "id": "disciplinary-label",
   "metadata": {},
   "outputs": [
    {
     "name": "stdout",
     "output_type": "stream",
     "text": [
      "encoder error (normal): 0.0009264776559171474 +- 0.0004471207119759325\n",
      "\n",
      "contextual error (normal): 0.019738213650675282 +- 0.002739070569729305\n",
      "\n",
      "adversarial error (normal): 0.02479663800396439 +- 0.007316580210885243\n",
      "\n"
     ]
    }
   ],
   "source": [
    "for t in [\"encoder\", \"contextual\", \"adversarial\"]:\n",
    "    for c in [\"normal\"]:\n",
    "        data = globals()[\"train_{}_{}\".format(t,c)]\n",
    "        print(\"{i} error ({j}): {m} +- {s}\".format(\n",
    "            i = t,\n",
    "            j = c,\n",
    "            m = np.mean(data),\n",
    "            s = np.std(data)\n",
    "        ))\n",
    "    print(\"\")"
   ]
  },
  {
   "cell_type": "markdown",
   "id": "opponent-status",
   "metadata": {},
   "source": [
    "### Train statistical tests"
   ]
  },
  {
   "cell_type": "code",
   "execution_count": 10,
   "id": "continuing-installation",
   "metadata": {},
   "outputs": [
    {
     "name": "stdout",
     "output_type": "stream",
     "text": [
      "-------------------------------------------------\n",
      "D'agostino-Pearson test for encoder (normal): 8.474920396583888e-08\n",
      "Shapiro-Wilks test for encoder (normal): 1.320356568612624e-05\n",
      "Barlett test for encoder (normal): 3.9805641513241316e-215\n",
      "Levene test for encoder (normal): 1.3995227970500072e-19\n",
      "F1 test for encoder (normal): 0.6673916985607875\n",
      "-------------------------------------------------\n",
      "\n",
      "-------------------------------------------------\n",
      "D'agostino-Pearson test for contextual (normal): 0.18578983711245262\n",
      "Shapiro-Wilks test for contextual (normal): 0.05470074340701103\n",
      "Barlett test for contextual (normal): 4.085508764964249e-158\n",
      "Levene test for contextual (normal): 1.1407100399873117e-22\n",
      "F1 test for contextual (normal): 0.7728891818288579\n",
      "-------------------------------------------------\n",
      "\n",
      "-------------------------------------------------\n",
      "D'agostino-Pearson test for adversarial (normal): 0.022386010988010803\n",
      "Shapiro-Wilks test for adversarial (normal): 0.034361377358436584\n",
      "Barlett test for adversarial (normal): 3.167387995479835e-131\n",
      "Levene test for adversarial (normal): 5.809902966556104e-21\n",
      "F1 test for adversarial (normal): 0.717261688574476\n",
      "-------------------------------------------------\n",
      "\n"
     ]
    }
   ],
   "source": [
    "for t in [\"encoder\", \"contextual\", \"adversarial\"]:\n",
    "    for c in [\"normal\"]:\n",
    "        print(\"-------------------------------------------------\")\n",
    "        data = globals()[\"train_{}_{}\".format(t,c)]\n",
    "        norm_dist = stats.norm.rvs(loc=0, scale=1, size=data.shape)\n",
    "        print(\"D'agostino-Pearson test for {i} ({j}): {m}\".format(\n",
    "            i = t,\n",
    "            j = c,\n",
    "            m = dagostinoPearson_test(data)\n",
    "        ))\n",
    "        print(\"Shapiro-Wilks test for {i} ({j}): {m}\".format(\n",
    "            i = t,\n",
    "            j = c,\n",
    "            m = shapiroWilks_test(data)\n",
    "        ))\n",
    "        print(\"Barlett test for {i} ({j}): {m}\".format(\n",
    "            i = t,\n",
    "            j = c,\n",
    "            m = bartlett_test(data, norm_dist)\n",
    "        ))\n",
    "        print(\"Levene test for {i} ({j}): {m}\".format(\n",
    "            i = t,\n",
    "            j = c,\n",
    "            m = levene_test(data, norm_dist)\n",
    "        ))\n",
    "        print(\"F1 test for {i} ({j}): {m}\".format(\n",
    "            i = t,\n",
    "            j = c,\n",
    "            m = fOneWay_test(data, norm_dist)\n",
    "        ))\n",
    "        print(\"-------------------------------------------------\")\n",
    "    print(\"\")"
   ]
  },
  {
   "cell_type": "markdown",
   "id": "outside-indian",
   "metadata": {},
   "source": [
    "### Test means and stds"
   ]
  },
  {
   "cell_type": "code",
   "execution_count": 11,
   "id": "tired-jacob",
   "metadata": {},
   "outputs": [
    {
     "name": "stdout",
     "output_type": "stream",
     "text": [
      "encoder error (normal): 0.0007845970067137387 +- 0.00026725552387214986\n",
      "encoder error (abnormal): 0.27461197083307937 +- 0.1165356131963963\n",
      "\n",
      "contextual error (normal): 0.01762424921616912 +- 0.0008606450182498977\n",
      "contextual error (abnormal): 0.16813773780383848 +- 0.021653087463851757\n",
      "\n",
      "adversarial error (normal): 0.028014339972287416 +- 0.0023214755514515966\n",
      "adversarial error (abnormal): 0.5509464016014879 +- 0.15037130974991733\n",
      "\n"
     ]
    }
   ],
   "source": [
    "for t in [\"encoder\", \"contextual\", \"adversarial\"]:\n",
    "    for c in [\"normal\", \"abnormal\"]:\n",
    "        data = globals()[\"test_{}_{}\".format(t,c)]\n",
    "        print(\"{i} error ({j}): {m} +- {s}\".format(\n",
    "            i = t,\n",
    "            j = c,\n",
    "            m = np.mean(data),\n",
    "            s = np.std(data)\n",
    "        ))\n",
    "    print(\"\")"
   ]
  },
  {
   "cell_type": "markdown",
   "id": "electronic-remove",
   "metadata": {},
   "source": [
    "### Test statistical tests"
   ]
  },
  {
   "cell_type": "code",
   "execution_count": 12,
   "id": "funny-duncan",
   "metadata": {},
   "outputs": [
    {
     "name": "stdout",
     "output_type": "stream",
     "text": [
      "-------------------------------------------------\n",
      "D'agostino-Pearson test for encoder (normal): 0.13489365385121824\n",
      "Shapiro-Wilks test for encoder (normal): 0.003682413138449192\n",
      "Barlett test for encoder (normal): 2.839843359722929e-47\n",
      "Levene test for encoder (normal): 2.0697457295203404e-06\n",
      "F1 test for encoder (normal): 0.01728164590949566\n",
      "-------------------------------------------------\n",
      "-------------------------------------------------\n",
      "D'agostino-Pearson test for encoder (abnormal): 0.0010886848334437419\n",
      "Shapiro-Wilks test for encoder (abnormal): 2.0602041331585497e-05\n",
      "Barlett test for encoder (abnormal): 1.662967374225807e-53\n",
      "Levene test for encoder (abnormal): 2.705204440027454e-20\n",
      "F1 test for encoder (abnormal): 0.00035390118955347085\n",
      "-------------------------------------------------\n",
      "\n",
      "-------------------------------------------------\n",
      "D'agostino-Pearson test for contextual (normal): 0.020447683352571678\n",
      "Shapiro-Wilks test for contextual (normal): 0.10432406514883041\n",
      "Barlett test for contextual (normal): 2.5103352626208615e-41\n",
      "Levene test for contextual (normal): 0.00010878891199143857\n",
      "F1 test for contextual (normal): 0.6609226725903157\n",
      "-------------------------------------------------\n",
      "-------------------------------------------------\n",
      "D'agostino-Pearson test for contextual (abnormal): 1.6081797198024783e-06\n",
      "Shapiro-Wilks test for contextual (abnormal): 0.000645563704892993\n",
      "Barlett test for contextual (abnormal): 6.98913058683031e-122\n",
      "Levene test for contextual (abnormal): 8.20638466734278e-25\n",
      "F1 test for contextual (abnormal): 0.011763831206065294\n",
      "-------------------------------------------------\n",
      "\n",
      "-------------------------------------------------\n",
      "D'agostino-Pearson test for adversarial (normal): 0.596627599397245\n",
      "Shapiro-Wilks test for adversarial (normal): 0.8573082089424133\n",
      "Barlett test for adversarial (normal): 1.554026250546785e-34\n",
      "Levene test for adversarial (normal): 0.00024526528354574433\n",
      "F1 test for adversarial (normal): 0.35359752146596535\n",
      "-------------------------------------------------\n",
      "-------------------------------------------------\n",
      "D'agostino-Pearson test for adversarial (abnormal): 0.23325911853041975\n",
      "Shapiro-Wilks test for adversarial (abnormal): 0.025705695152282715\n",
      "Barlett test for adversarial (abnormal): 2.5104730192722548e-45\n",
      "Levene test for adversarial (abnormal): 8.012177356880708e-19\n",
      "F1 test for adversarial (abnormal): 6.211539116836554e-10\n",
      "-------------------------------------------------\n",
      "\n"
     ]
    },
    {
     "name": "stderr",
     "output_type": "stream",
     "text": [
      "/usr/local/lib/python3.6/dist-packages/scipy/stats/stats.py:1604: UserWarning: kurtosistest only valid for n>=20 ... continuing anyway, n=16\n",
      "  \"anyway, n=%i\" % int(n))\n"
     ]
    }
   ],
   "source": [
    "for t in [\"encoder\", \"contextual\", \"adversarial\"]:\n",
    "    for c in [\"normal\", \"abnormal\"]:\n",
    "        print(\"-------------------------------------------------\")\n",
    "        data = globals()[\"test_{}_{}\".format(t,c)]\n",
    "        norm_dist = stats.norm.rvs(loc=0, scale=1, size=data.shape)\n",
    "        print(\"D'agostino-Pearson test for {i} ({j}): {m}\".format(\n",
    "            i = t,\n",
    "            j = c,\n",
    "            m = dagostinoPearson_test(data)\n",
    "        ))\n",
    "        print(\"Shapiro-Wilks test for {i} ({j}): {m}\".format(\n",
    "            i = t,\n",
    "            j = c,\n",
    "            m = shapiroWilks_test(data)\n",
    "        ))\n",
    "        print(\"Barlett test for {i} ({j}): {m}\".format(\n",
    "            i = t,\n",
    "            j = c,\n",
    "            m = bartlett_test(data, norm_dist)\n",
    "        ))\n",
    "        print(\"Levene test for {i} ({j}): {m}\".format(\n",
    "            i = t,\n",
    "            j = c,\n",
    "            m = levene_test(data, norm_dist)\n",
    "        ))\n",
    "        print(\"F1 test for {i} ({j}): {m}\".format(\n",
    "            i = t,\n",
    "            j = c,\n",
    "            m = fOneWay_test(data, norm_dist)\n",
    "        ))\n",
    "        print(\"-------------------------------------------------\")\n",
    "    print(\"\")"
   ]
  },
  {
   "cell_type": "markdown",
   "id": "2b956fca",
   "metadata": {},
   "source": [
    "### All data means and stds"
   ]
  },
  {
   "cell_type": "code",
   "execution_count": 13,
   "id": "14458150",
   "metadata": {},
   "outputs": [
    {
     "name": "stdout",
     "output_type": "stream",
     "text": [
      "encoder error (normal): 0.0009006811742438003 +- 0.00042373272063283456\n",
      "encoder error (abnormal): 0.27461197083307937 +- 0.1165356131963963\n",
      "\n",
      "contextual error (normal): 0.019353856480765073 +- 0.0026339849598267778\n",
      "contextual error (abnormal): 0.16813773780383848 +- 0.021653087463851757\n",
      "\n",
      "adversarial error (normal): 0.025381674725477667 +- 0.006805825550124645\n",
      "adversarial error (abnormal): 0.5509464016014879 +- 0.15037130974991733\n",
      "\n"
     ]
    }
   ],
   "source": [
    "for t in [\"encoder\", \"contextual\", \"adversarial\"]:\n",
    "    for c in [\"normal\", \"abnormal\"]:\n",
    "        data = globals()[\"all_{}_{}\".format(t,c)]\n",
    "        print(\"{i} error ({j}): {m} +- {s}\".format(\n",
    "            i = t,\n",
    "            j = c,\n",
    "            m = np.mean(data),\n",
    "            s = np.std(data)\n",
    "        ))\n",
    "    print(\"\")"
   ]
  },
  {
   "cell_type": "markdown",
   "id": "9cd8b130",
   "metadata": {},
   "source": [
    "### All data statistical tests"
   ]
  },
  {
   "cell_type": "code",
   "execution_count": 14,
   "id": "6bbc99f4",
   "metadata": {},
   "outputs": [
    {
     "name": "stdout",
     "output_type": "stream",
     "text": [
      "-------------------------------------------------\n",
      "D'agostino-Pearson test for encoder (normal): 1.2826473274465592e-09\n",
      "Shapiro-Wilks test for encoder (normal): 1.084691689356987e-06\n",
      "Barlett test for encoder (normal): 2.482249021085332e-266\n",
      "Levene test for encoder (normal): 1.5920793644500475e-21\n",
      "F1 test for encoder (normal): 0.2437121760706952\n",
      "-------------------------------------------------\n",
      "-------------------------------------------------\n",
      "D'agostino-Pearson test for encoder (abnormal): 0.0010886848334437419\n",
      "Shapiro-Wilks test for encoder (abnormal): 2.0602041331585497e-05\n",
      "Barlett test for encoder (abnormal): 2.934085171306923e-54\n",
      "Levene test for encoder (abnormal): 6.282852976626858e-22\n",
      "F1 test for encoder (abnormal): 0.004516828064916507\n",
      "-------------------------------------------------\n",
      "\n",
      "-------------------------------------------------\n",
      "D'agostino-Pearson test for contextual (normal): 0.017106973185072323\n",
      "Shapiro-Wilks test for contextual (normal): 0.001671594800427556\n",
      "Barlett test for contextual (normal): 4.314050118095143e-203\n",
      "Levene test for contextual (normal): 5.79817058302548e-26\n",
      "F1 test for contextual (normal): 0.04950372559125806\n",
      "-------------------------------------------------\n",
      "-------------------------------------------------\n",
      "D'agostino-Pearson test for contextual (abnormal): 1.6081797198024783e-06\n",
      "Shapiro-Wilks test for contextual (abnormal): 0.000645563704892993\n",
      "Barlett test for contextual (abnormal): 2.0044406347315667e-120\n",
      "Levene test for contextual (abnormal): 1.464651567212853e-26\n",
      "F1 test for contextual (abnormal): 0.5975542378014608\n",
      "-------------------------------------------------\n",
      "\n",
      "-------------------------------------------------\n",
      "D'agostino-Pearson test for adversarial (normal): 0.11979865941422409\n",
      "Shapiro-Wilks test for adversarial (normal): 0.21819935739040375\n",
      "Barlett test for adversarial (normal): 2.3997456095444747e-163\n",
      "Levene test for adversarial (normal): 1.0962646967938988e-25\n",
      "F1 test for adversarial (normal): 0.09262564394012768\n",
      "-------------------------------------------------\n",
      "-------------------------------------------------\n",
      "D'agostino-Pearson test for adversarial (abnormal): 0.23325911853041975\n",
      "Shapiro-Wilks test for adversarial (abnormal): 0.025705695152282715\n",
      "Barlett test for adversarial (abnormal): 7.390249134595074e-50\n",
      "Levene test for adversarial (abnormal): 5.387883803793321e-20\n",
      "F1 test for adversarial (abnormal): 8.767262129747022e-08\n",
      "-------------------------------------------------\n",
      "\n"
     ]
    }
   ],
   "source": [
    "for t in [\"encoder\", \"contextual\", \"adversarial\"]:\n",
    "    for c in [\"normal\", \"abnormal\"]:\n",
    "        print(\"-------------------------------------------------\")\n",
    "        data = globals()[\"all_{}_{}\".format(t,c)]\n",
    "        norm_dist = stats.norm.rvs(loc=0, scale=1, size=data.shape)\n",
    "        print(\"D'agostino-Pearson test for {i} ({j}): {m}\".format(\n",
    "            i = t,\n",
    "            j = c,\n",
    "            m = dagostinoPearson_test(data)\n",
    "        ))\n",
    "        print(\"Shapiro-Wilks test for {i} ({j}): {m}\".format(\n",
    "            i = t,\n",
    "            j = c,\n",
    "            m = shapiroWilks_test(data)\n",
    "        ))\n",
    "        print(\"Barlett test for {i} ({j}): {m}\".format(\n",
    "            i = t,\n",
    "            j = c,\n",
    "            m = bartlett_test(data, norm_dist)\n",
    "        ))\n",
    "        print(\"Levene test for {i} ({j}): {m}\".format(\n",
    "            i = t,\n",
    "            j = c,\n",
    "            m = levene_test(data, norm_dist)\n",
    "        ))\n",
    "        print(\"F1 test for {i} ({j}): {m}\".format(\n",
    "            i = t,\n",
    "            j = c,\n",
    "            m = fOneWay_test(data, norm_dist)\n",
    "        ))\n",
    "        print(\"-------------------------------------------------\")\n",
    "    print(\"\")"
   ]
  },
  {
   "cell_type": "markdown",
   "id": "minus-processor",
   "metadata": {},
   "source": [
    "### Train graphics"
   ]
  },
  {
   "cell_type": "markdown",
   "id": "split-merchandise",
   "metadata": {},
   "source": [
    "#### QQ plots"
   ]
  },
  {
   "cell_type": "code",
   "execution_count": 15,
   "id": "motivated-plant",
   "metadata": {},
   "outputs": [],
   "source": [
    "save_path = os.path.join(experiment_folder, \"outputs/graphics/qualitative/\")\n",
    "for t in [\"encoder\", \"contextual\", \"adversarial\"]:\n",
    "    for c in [\"normal\"]:\n",
    "        generate_qq_plot(globals()[\"train_{}_{}\".format(t,c)], save_path, \"train_{}_{}\".format(t,c))"
   ]
  },
  {
   "cell_type": "code",
   "execution_count": 25,
   "id": "d73d42ec",
   "metadata": {},
   "outputs": [],
   "source": [
    "import statsmodels.api as sm\n",
    "from scipy import stats\n",
    "\n",
    "def min_max_scaler(data, new_max, new_min):\n",
    "    data_std = (data - np.min(data)) / (np.max(data) - np.min(data))\n",
    "    data_scaled = data_std * (new_max - new_min) + new_min\n",
    "    return data_scaled"
   ]
  },
  {
   "cell_type": "code",
   "execution_count": 45,
   "id": "b24df9ca",
   "metadata": {},
   "outputs": [
    {
     "data": {
      "text/plain": [
       "Power_divergenceResult(statistic=0.245390153632559, pvalue=0.620339881356887)"
      ]
     },
     "execution_count": 45,
     "metadata": {},
     "output_type": "execute_result"
    }
   ],
   "source": [
    "data = test_contextual_abnormal\n",
    "stats.chisquare(data, ddof=data.shape[0]-2)"
   ]
  },
  {
   "cell_type": "code",
   "execution_count": 47,
   "id": "6348f29c",
   "metadata": {},
   "outputs": [
    {
     "data": {
      "text/plain": [
       "MannwhitneyuResult(statistic=0.0, pvalue=1.1631165588810178e-10)"
      ]
     },
     "execution_count": 47,
     "metadata": {},
     "output_type": "execute_result"
    }
   ],
   "source": [
    "data_1 = test_encoder_normal\n",
    "data_2 = test_encoder_abnormal\n",
    "stats.mannwhitneyu(data_1, data_2)"
   ]
  },
  {
   "cell_type": "code",
   "execution_count": 52,
   "id": "d1acd73d",
   "metadata": {},
   "outputs": [
    {
     "data": {
      "text/plain": [
       "<scipy.stats._distn_infrastructure.rv_frozen at 0x7f0ce5dc0668>"
      ]
     },
     "execution_count": 52,
     "metadata": {},
     "output_type": "execute_result"
    }
   ],
   "source": [
    "stats.norm()"
   ]
  },
  {
   "cell_type": "code",
   "execution_count": 66,
   "id": "dcec8b75",
   "metadata": {},
   "outputs": [
    {
     "ename": "KeyboardInterrupt",
     "evalue": "Interrupted by user",
     "output_type": "error",
     "traceback": [
      "\u001b[0;31m---------------------------------------------------------------------------\u001b[0m",
      "\u001b[0;31mKeyboardInterrupt\u001b[0m                         Traceback (most recent call last)",
      "\u001b[0;32m<ipython-input-66-a82fc01f10cb>\u001b[0m in \u001b[0;36m<module>\u001b[0;34m\u001b[0m\n\u001b[1;32m      4\u001b[0m     \u001b[0max\u001b[0m \u001b[0;34m=\u001b[0m \u001b[0mplt\u001b[0m\u001b[0;34m.\u001b[0m\u001b[0mgca\u001b[0m\u001b[0;34m(\u001b[0m\u001b[0;34m)\u001b[0m\u001b[0;34m\u001b[0m\u001b[0;34m\u001b[0m\u001b[0m\n\u001b[1;32m      5\u001b[0m     \u001b[0mplt\u001b[0m\u001b[0;34m.\u001b[0m\u001b[0mplot\u001b[0m\u001b[0;34m(\u001b[0m\u001b[0max\u001b[0m\u001b[0;34m.\u001b[0m\u001b[0mget_xlim\u001b[0m\u001b[0;34m(\u001b[0m\u001b[0;34m)\u001b[0m\u001b[0;34m,\u001b[0m \u001b[0max\u001b[0m\u001b[0;34m.\u001b[0m\u001b[0mget_ylim\u001b[0m\u001b[0;34m(\u001b[0m\u001b[0;34m)\u001b[0m\u001b[0;34m,\u001b[0m \u001b[0mcolor\u001b[0m\u001b[0;34m=\u001b[0m\u001b[0;34m\"r\"\u001b[0m\u001b[0;34m)\u001b[0m\u001b[0;34m\u001b[0m\u001b[0;34m\u001b[0m\u001b[0m\n\u001b[0;32m----> 6\u001b[0;31m     \u001b[0minput\u001b[0m\u001b[0;34m(\u001b[0m\u001b[0;34m\"Degree of freedom {}\"\u001b[0m\u001b[0;34m.\u001b[0m\u001b[0mformat\u001b[0m\u001b[0;34m(\u001b[0m\u001b[0mi\u001b[0m\u001b[0;34m)\u001b[0m\u001b[0;34m)\u001b[0m\u001b[0;34m\u001b[0m\u001b[0;34m\u001b[0m\u001b[0m\n\u001b[0m\u001b[1;32m      7\u001b[0m     \u001b[0mclear_output\u001b[0m\u001b[0;34m(\u001b[0m\u001b[0;34m)\u001b[0m\u001b[0;34m\u001b[0m\u001b[0;34m\u001b[0m\u001b[0m\n\u001b[1;32m      8\u001b[0m     \u001b[0mplt\u001b[0m\u001b[0;34m.\u001b[0m\u001b[0mclose\u001b[0m\u001b[0;34m(\u001b[0m\u001b[0;34m)\u001b[0m\u001b[0;34m\u001b[0m\u001b[0;34m\u001b[0m\u001b[0m\n",
      "\u001b[0;32m/usr/local/lib/python3.6/dist-packages/ipykernel/kernelbase.py\u001b[0m in \u001b[0;36mraw_input\u001b[0;34m(self, prompt)\u001b[0m\n\u001b[1;32m    849\u001b[0m             \u001b[0mself\u001b[0m\u001b[0;34m.\u001b[0m\u001b[0m_parent_ident\u001b[0m\u001b[0;34m,\u001b[0m\u001b[0;34m\u001b[0m\u001b[0;34m\u001b[0m\u001b[0m\n\u001b[1;32m    850\u001b[0m             \u001b[0mself\u001b[0m\u001b[0;34m.\u001b[0m\u001b[0m_parent_header\u001b[0m\u001b[0;34m,\u001b[0m\u001b[0;34m\u001b[0m\u001b[0;34m\u001b[0m\u001b[0m\n\u001b[0;32m--> 851\u001b[0;31m             \u001b[0mpassword\u001b[0m\u001b[0;34m=\u001b[0m\u001b[0;32mFalse\u001b[0m\u001b[0;34m,\u001b[0m\u001b[0;34m\u001b[0m\u001b[0;34m\u001b[0m\u001b[0m\n\u001b[0m\u001b[1;32m    852\u001b[0m         )\n\u001b[1;32m    853\u001b[0m \u001b[0;34m\u001b[0m\u001b[0m\n",
      "\u001b[0;32m/usr/local/lib/python3.6/dist-packages/ipykernel/kernelbase.py\u001b[0m in \u001b[0;36m_input_request\u001b[0;34m(self, prompt, ident, parent, password)\u001b[0m\n\u001b[1;32m    890\u001b[0m             \u001b[0;32mexcept\u001b[0m \u001b[0mKeyboardInterrupt\u001b[0m\u001b[0;34m:\u001b[0m\u001b[0;34m\u001b[0m\u001b[0;34m\u001b[0m\u001b[0m\n\u001b[1;32m    891\u001b[0m                 \u001b[0;31m# re-raise KeyboardInterrupt, to truncate traceback\u001b[0m\u001b[0;34m\u001b[0m\u001b[0;34m\u001b[0m\u001b[0;34m\u001b[0m\u001b[0m\n\u001b[0;32m--> 892\u001b[0;31m                 \u001b[0;32mraise\u001b[0m \u001b[0mKeyboardInterrupt\u001b[0m\u001b[0;34m(\u001b[0m\u001b[0;34m\"Interrupted by user\"\u001b[0m\u001b[0;34m)\u001b[0m \u001b[0;32mfrom\u001b[0m \u001b[0;32mNone\u001b[0m\u001b[0;34m\u001b[0m\u001b[0;34m\u001b[0m\u001b[0m\n\u001b[0m\u001b[1;32m    893\u001b[0m             \u001b[0;32mexcept\u001b[0m \u001b[0mException\u001b[0m \u001b[0;32mas\u001b[0m \u001b[0me\u001b[0m\u001b[0;34m:\u001b[0m\u001b[0;34m\u001b[0m\u001b[0;34m\u001b[0m\u001b[0m\n\u001b[1;32m    894\u001b[0m                 \u001b[0mself\u001b[0m\u001b[0;34m.\u001b[0m\u001b[0mlog\u001b[0m\u001b[0;34m.\u001b[0m\u001b[0mwarning\u001b[0m\u001b[0;34m(\u001b[0m\u001b[0;34m\"Invalid Message:\"\u001b[0m\u001b[0;34m,\u001b[0m \u001b[0mexc_info\u001b[0m\u001b[0;34m=\u001b[0m\u001b[0;32mTrue\u001b[0m\u001b[0;34m)\u001b[0m\u001b[0;34m\u001b[0m\u001b[0;34m\u001b[0m\u001b[0m\n",
      "\u001b[0;31mKeyboardInterrupt\u001b[0m: Interrupted by user"
     ]
    },
    {
     "data": {
      "image/png": "[encoded data removed]",
      "text/plain": [
       "<Figure size 432x288 with 1 Axes>"
      ]
     },
     "metadata": {
      "needs_background": "light"
     },
     "output_type": "display_data"
    }
   ],
   "source": [
    "data = train_encoder_normal\n",
    "for i in range(1, data.shape[0]):\n",
    "    sm.qqplot(min_max_scaler(data, 1, -1), dist=stats.chi2(i))\n",
    "    ax = plt.gca()\n",
    "    plt.plot(ax.get_xlim(), ax.get_ylim(), color=\"r\")\n",
    "    input(\"Degree of freedom {}\".format(i))\n",
    "    clear_output()\n",
    "    plt.close()"
   ]
  },
  {
   "cell_type": "markdown",
   "id": "indoor-satin",
   "metadata": {},
   "source": [
    "### Test graphics"
   ]
  },
  {
   "cell_type": "markdown",
   "id": "stone-panic",
   "metadata": {},
   "source": [
    "#### Box plots"
   ]
  },
  {
   "cell_type": "code",
   "execution_count": 16,
   "id": "desperate-lease",
   "metadata": {
    "scrolled": false
   },
   "outputs": [],
   "source": [
    "save_path = os.path.join(experiment_folder, \"outputs/graphics/qualitative/\")\n",
    "rows = 1\n",
    "columns = 3\n",
    "fig, axs = plt.subplots(rows, columns, figsize=(15, 10))\n",
    "for i, t in enumerate([\"encoder\", \"contextual\", \"adversarial\"]):\n",
    "    data = \"test_{}_\".format(t)\n",
    "    axs[i].boxplot([globals()[data+\"normal\"], globals()[data+\"abnormal\"]], labels=['Normal', 'Abnormal'])\n",
    "    axs[i].set_title(\"{} errors\".format(t))\n",
    "\n",
    "filename = 'test_boxplot.png'\n",
    "fig.savefig(save_path+filename)\n",
    "plt.close(fig)"
   ]
  },
  {
   "cell_type": "markdown",
   "id": "charged-multimedia",
   "metadata": {},
   "source": [
    "#### QQ plots"
   ]
  },
  {
   "cell_type": "code",
   "execution_count": 17,
   "id": "atlantic-assignment",
   "metadata": {},
   "outputs": [],
   "source": [
    "save_path = os.path.join(experiment_folder, \"outputs/graphics/qualitative/\")\n",
    "for t in [\"encoder\", \"contextual\", \"adversarial\"]:\n",
    "    for c in [\"normal\", \"abnormal\"]:\n",
    "        generate_qq_plot(globals()[\"test_{}_{}\".format(t,c)], save_path, \"test_{}_{}\".format(t,c))"
   ]
  },
  {
   "cell_type": "markdown",
   "id": "12d353b8",
   "metadata": {},
   "source": [
    "### All data graphics"
   ]
  },
  {
   "cell_type": "markdown",
   "id": "a55d922f",
   "metadata": {},
   "source": [
    "#### Box plots"
   ]
  },
  {
   "cell_type": "code",
   "execution_count": 18,
   "id": "5ed03976",
   "metadata": {},
   "outputs": [],
   "source": [
    "save_path = os.path.join(experiment_folder, \"outputs/graphics/qualitative/\")\n",
    "rows = 1\n",
    "columns = 3\n",
    "fig, axs = plt.subplots(rows, columns, figsize=(15, 10))\n",
    "for i, t in enumerate([\"encoder\", \"contextual\", \"adversarial\"]):\n",
    "    data = \"all_{}_\".format(t)\n",
    "    axs[i].boxplot([globals()[data+\"normal\"], globals()[data+\"abnormal\"]], labels=['Normal', 'Abnormal'])\n",
    "    axs[i].set_title(\"{} errors\".format(t))\n",
    "\n",
    "filename = 'all_data_boxplot.png'\n",
    "fig.savefig(save_path+filename)\n",
    "plt.close(fig)"
   ]
  },
  {
   "cell_type": "markdown",
   "id": "291b27c9",
   "metadata": {},
   "source": [
    "#### QQ plots"
   ]
  },
  {
   "cell_type": "code",
   "execution_count": 19,
   "id": "c433e281",
   "metadata": {},
   "outputs": [],
   "source": [
    "save_path = os.path.join(experiment_folder, \"outputs/graphics/qualitative/\")\n",
    "for t in [\"encoder\", \"contextual\", \"adversarial\"]:\n",
    "    for c in [\"normal\", \"abnormal\"]:\n",
    "        generate_qq_plot(globals()[\"all_{}_{}\".format(t,c)], save_path, \"all_data_{}_{}\".format(t,c))"
   ]
  },
  {
   "cell_type": "markdown",
   "id": "general-hudson",
   "metadata": {},
   "source": [
    "## Visual results"
   ]
  },
  {
   "cell_type": "markdown",
   "id": "cultural-volume",
   "metadata": {},
   "source": [
    "### UMAP latent vectors"
   ]
  },
  {
   "cell_type": "code",
   "execution_count": 20,
   "id": "yellow-alliance",
   "metadata": {},
   "outputs": [],
   "source": [
    "base_path = os.path.join(experiment_folder, \"outputs/latent_vectors/\")\n",
    "for t in [\"in\", \"out\"]:\n",
    "    for m in [\"train\", \"test\"]:\n",
    "        classes = [\"normal\"] if m == \"train\" else [\"normal\", \"abnormal\"]\n",
    "        for c in classes:\n",
    "            all_data = \"all_{}_{}\".format(t, c)\n",
    "            if all_data not in globals().keys():\n",
    "                globals()[all_data] = []\n",
    "            \n",
    "            data = \"{}_{}_{}\".format(m, t, c)\n",
    "            globals()[data] = []\n",
    "            path = os.path.join(base_path, t, m, c)\n",
    "            for file in sorted(os.listdir(path)):\n",
    "                vector = np.load(os.path.join(path, file))\n",
    "                globals()[data].append(vector)\n",
    "                globals()[all_data].append(vector)\n",
    "            globals()[data] = np.r_[globals()[data]]\n",
    "for t in [\"in\", \"out\"]:\n",
    "    for c in [\"normal\", \"abnormal\"]:\n",
    "        all_data = \"all_{}_{}\".format(t, c)\n",
    "        globals()[all_data] = np.r_[globals()[all_data]]"
   ]
  },
  {
   "cell_type": "code",
   "execution_count": 21,
   "id": "apparent-sector",
   "metadata": {},
   "outputs": [],
   "source": [
    "save_path = os.path.join(experiment_folder, \"outputs/graphics/visuals/\")\n",
    "for t in [\"in\", \"out\"]:\n",
    "    for m in [\"train\", \"test\", \"all\"]:\n",
    "        classes = [\"normal\"] if m == \"train\" else [\"normal\", \"abnormal\"]\n",
    "        globals()[\"{}_mapped_{}\".format(m, t)] = umap.UMAP(random_state = 8128).fit_transform(np.concatenate(\n",
    "                [globals()[\"{}_{}_{}\".format(m, t, c)] for c in classes], axis=0\n",
    "            )\n",
    "        )\n",
    "        \n",
    "        divisor = globals()[\"{}_{}_normal\".format(m, t)].shape[0]\n",
    "        plt.scatter(globals()[\"{}_mapped_{}\".format(m, t)][:divisor,0],\n",
    "            globals()[\"{}_mapped_{}\".format(m, t)][:divisor,1], color=\"blue\", s=5, label=\"Normal\"\n",
    "        )\n",
    "        if \"abnormal\" in classes:\n",
    "            plt.scatter(globals()[\"{}_mapped_{}\".format(m, t)][divisor:,0],\n",
    "                globals()[\"{}_mapped_{}\".format(m, t)][divisor:,1], color=\"red\", s=5, label=\"Abnormal\"\n",
    "            )\n",
    "        plt.legend()\n",
    "        plt.title(\"UMAP for {}put data in {}\".format(t, m))\n",
    "        filename = '{}_umap_{}put.png'.format(m, t)\n",
    "        plt.savefig(save_path+filename)\n",
    "        plt.close()"
   ]
  },
  {
   "cell_type": "markdown",
   "id": "younger-forth",
   "metadata": {},
   "source": [
    "### Video comparision"
   ]
  },
  {
   "cell_type": "code",
   "execution_count": null,
   "id": "3cb2e5a1",
   "metadata": {},
   "outputs": [],
   "source": [
    "def show_all_data(volumes):\n",
    "    frame_slider = IntSlider(value=32, min=1, max=volumes[0].shape[0], step=1)\n",
    "    volume_slider = IntSlider(min=1, max=len(volumes), step=1)\n",
    "\n",
    "    def update_frame_max(*args):\n",
    "        frame_slider.max = len(sorted(os.listdir(path)))\n",
    "    volume_slider.observe(update_frame_max, 'value')\n",
    "\n",
    "    interact(lambda volume, frame: plt.imshow(volumes[volume-1][frame-1,:,:,1], cmap=\"gray\"), \n",
    "             volume=volume_slider, frame=frame_slider\n",
    "    );\n",
    "show_all_data(classes[0])"
   ]
  },
  {
   "cell_type": "code",
   "execution_count": null,
   "id": "narrow-classroom",
   "metadata": {
    "scrolled": false
   },
   "outputs": [],
   "source": [
    "for i in range(0, 88):\n",
    "    video_index = i\n",
    "    mode = \"test\"\n",
    "    video_class = \"abnormal\"\n",
    "\n",
    "    base_path = os.path.join(experiment_folder, \"outputs/samples/\")\n",
    "    for t in [\"real\", \"fake\", \"substraction\"]:\n",
    "        path = os.path.join(base_path, t, mode, video_class)\n",
    "        video = sorted(os.listdir(path))[video_index]\n",
    "        data = \"video_{}\".format(t)\n",
    "        globals()[data] = []\n",
    "        for frame in sorted(os.listdir(os.path.join(path, video))):\n",
    "            globals()[data].append(cv2.cvtColor(\n",
    "                cv2.imread(\n",
    "                    os.path.join(path, video, frame)\n",
    "                ), cv2.COLOR_BGR2RGB\n",
    "            ))\n",
    "        globals()[data] = np.r_[globals()[data]]  \n",
    "\n",
    "    assert video_real.shape[0] == video_fake.shape[0] == video_substraction.shape[0]\n",
    "\n",
    "    widget = IntSlider(value=32, min=1, max=video_real.shape[0], step=1)\n",
    "\n",
    "    interact(lambda frame: plt.imshow(video_real[frame-1]), frame=widget)\n",
    "    interact(lambda frame: plt.imshow(video_fake[frame-1]), frame=widget)\n",
    "    interact(lambda frame: plt.imshow(video_substraction[frame-1]), frame=widget)\n",
    "    input(\"indice actual: {}\".format(i))\n",
    "    clear_output()"
   ]
  }
 ],
 "metadata": {
  "kernelspec": {
   "display_name": "Python 3",
   "language": "python",
   "name": "python3"
  },
  "language_info": {
   "codemirror_mode": {
    "name": "ipython",
    "version": 3
   },
   "file_extension": ".py",
   "mimetype": "text/x-python",
   "name": "python",
   "nbconvert_exporter": "python",
   "pygments_lexer": "ipython3",
   "version": "3.6.9"
  }
 },
 "nbformat": 4,
 "nbformat_minor": 5
}
