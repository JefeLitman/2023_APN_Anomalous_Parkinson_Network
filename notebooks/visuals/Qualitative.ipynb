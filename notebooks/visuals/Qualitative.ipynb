{
 "cells": [
  {
   "cell_type": "markdown",
   "id": "9c9b3551",
   "metadata": {},
   "source": [
    "# Notebook for generate Qualitative Graphics"
   ]
  },
  {
   "cell_type": "markdown",
   "id": "8c661af1",
   "metadata": {},
   "source": [
    "### Libraries import"
   ]
  },
  {
   "cell_type": "code",
   "execution_count": 1,
   "id": "15818400",
   "metadata": {},
   "outputs": [],
   "source": [
    "import os\n",
    "import sys\n",
    "import numpy as np\n",
    "from scipy import stats\n",
    "import matplotlib.pyplot as plt\n",
    "\n",
    "sys.path.append(\"../../\")"
   ]
  },
  {
   "cell_type": "code",
   "execution_count": 2,
   "id": "a659e58f",
   "metadata": {},
   "outputs": [],
   "source": [
    "from utils.savers import generate_qq_plot"
   ]
  },
  {
   "cell_type": "markdown",
   "id": "f105e5c1",
   "metadata": {},
   "source": [
    "### Experiment selection"
   ]
  },
  {
   "cell_type": "code",
   "execution_count": 3,
   "id": "c458d4c0",
   "metadata": {},
   "outputs": [
    {
     "data": {
      "text/plain": [
       "'../../results/Ganomaly_3D/0006_Ganomaly3D-64x64x64x1'"
      ]
     },
     "execution_count": 3,
     "metadata": {},
     "output_type": "execute_result"
    }
   ],
   "source": [
    "experiment_id = \"0006\"\n",
    "root_path = \"../../results/Ganomaly_3D/\"\n",
    "for i in sorted(os.listdir(root_path)):\n",
    "    if experiment_id in i:\n",
    "        experiment_folder = os.path.join(root_path, i)\n",
    "experiment_folder"
   ]
  },
  {
   "cell_type": "markdown",
   "id": "ec6c97bf",
   "metadata": {},
   "source": [
    "### Errors loading"
   ]
  },
  {
   "cell_type": "code",
   "execution_count": 4,
   "id": "d9813fed",
   "metadata": {},
   "outputs": [],
   "source": [
    "base_path = os.path.join(experiment_folder, \"outputs/errors/\")\n",
    "for t in [\"encoder\", \"contextual\", \"adversarial\"]:\n",
    "        for c in [\"normal\", \"abnormal\"]:\n",
    "            globals()[\"all_{}_{}\".format(t, c)] = np.r_[[]]\n",
    "\n",
    "for t in [\"encoder\", \"contextual\", \"adversarial\"]:\n",
    "    for m in [\"train\", \"val\", \"test\"]:\n",
    "        if m == \"train\":\n",
    "            if os.path.isfile(os.path.join(base_path, t, m, \"normal.npy\")):\n",
    "                classes = [\"normal\"] \n",
    "            else:\n",
    "                classes = [\"abnormal\"]\n",
    "        else:\n",
    "            classes = [\"normal\", \"abnormal\"]\n",
    "\n",
    "        for c in classes:\n",
    "            all_data = \"all_{}_{}\".format(t, c)\n",
    "            errors = np.load(os.path.join(base_path, t, m, c + \".npy\"))\n",
    "            globals()[\"{}_{}_{}\".format(m, t, c)] = errors\n",
    "            globals()[all_data] = np.concatenate([globals()[all_data], errors])"
   ]
  },
  {
   "cell_type": "markdown",
   "id": "39a328b2",
   "metadata": {},
   "source": [
    "### Errors by patients loading"
   ]
  },
  {
   "cell_type": "code",
   "execution_count": 5,
   "id": "b046b40f",
   "metadata": {},
   "outputs": [],
   "source": [
    "base_path = os.path.join(experiment_folder, \"outputs/latent_vectors/input_generator\")\n",
    "for t in [\"encoder\", \"contextual\", \"adversarial\"]:\n",
    "    for m in [\"train\", \"val\", \"test\"]:\n",
    "        if m == \"train\":\n",
    "            if \"train_encoder_normal\" in globals().keys():\n",
    "                classes = [\"normal\"] \n",
    "            else:\n",
    "                classes = [\"abnormal\"]\n",
    "        else:\n",
    "            classes = [\"normal\", \"abnormal\"]\n",
    "        for c in classes:\n",
    "            patients_ids_positions = [\n",
    "                int(i.split(\"_\")[1].split(\"-\")[1].split(\".\")[0]) for i in sorted(\n",
    "                    os.listdir(os.path.join(base_path, m, c))\n",
    "                )\n",
    "            ]\n",
    "            data = \"{}_{}_{}\".format(m, t, c)\n",
    "            key = \"{}_{}\".format(data, \"patients\")\n",
    "            globals()[key] = {}\n",
    "\n",
    "            for p_id in np.unique(patients_ids_positions):\n",
    "                globals()[key][p_id] = []\n",
    "\n",
    "            for i, p_id in enumerate(patients_ids_positions):\n",
    "                globals()[key][p_id].append(globals()[data][i])"
   ]
  },
  {
   "cell_type": "markdown",
   "id": "614c0808",
   "metadata": {},
   "source": [
    "### Data partition distribution individual"
   ]
  },
  {
   "cell_type": "code",
   "execution_count": 15,
   "id": "9a8dcc6f",
   "metadata": {},
   "outputs": [],
   "source": [
    "save_path = os.path.join(experiment_folder, \"outputs/graphics/qualitative/individual_distributions\")\n",
    "if not os.path.isdir(save_path):\n",
    "    os.mkdir(save_path)\n",
    "for t in [\"encoder\", \"contextual\", \"adversarial\"]:\n",
    "    for g in [\"train\", \"val\", \"test\", \"all\"]:\n",
    "        if g == \"train\":\n",
    "            classes = [\"check\"]\n",
    "        else:\n",
    "            classes = [\"normal\", \"abnormal\"]\n",
    "        for cl in classes:\n",
    "            if cl == \"check\":\n",
    "                if \"train_{}_normal\".format(t) in globals().keys():\n",
    "                    c = \"normal\"\n",
    "                else:\n",
    "                    c = \"abnormal\"\n",
    "            else:\n",
    "                c = cl\n",
    "            data = globals()[\"{}_{}_{}\".format(g, t, c)]\n",
    "            h = (2*stats.iqr(data)) / (data.shape[0]**(1/3))\n",
    "            n_bins = int((np.max(data) - np.min(data)) / h)\n",
    "            # density = stats.gaussian_kde(data)\n",
    "            plt.figure(figsize=(15,13))\n",
    "            # n, x, _ = plt.hist(data, bins=n_bins, label=\"{} {}\".format(g, c), histtype=\"step\")\n",
    "            plt.hist(data, bins=n_bins, label=\"{} {}\".format(g, c), histtype=\"step\")\n",
    "            # plt.plot(x, density(x))\n",
    "            plt.xlabel(\"Error\")#, size=14)\n",
    "            plt.ylabel(\"Counts\")#, size=14)\n",
    "            plt.title(\"Data Distribution\")\n",
    "            plt.legend()\n",
    "            path = os.path.join(save_path, '{}_{}_{}_distribution.png'.format(g, t, c))\n",
    "            plt.savefig(path)\n",
    "            plt.close()"
   ]
  },
  {
   "cell_type": "markdown",
   "id": "5192e324",
   "metadata": {},
   "source": [
    "### Data partition distribution together"
   ]
  },
  {
   "cell_type": "code",
   "execution_count": 13,
   "id": "4a7fef70",
   "metadata": {},
   "outputs": [],
   "source": [
    "save_path = os.path.join(experiment_folder, \"outputs/graphics/qualitative/together_distributions\")\n",
    "if not os.path.isdir(save_path):\n",
    "    os.mkdir(save_path)\n",
    "for t in [\"encoder\", \"contextual\", \"adversarial\"]:\n",
    "    plt.figure(figsize=(15,13))\n",
    "    for g in [\"val\", \"test\"]:\n",
    "        for c in [\"normal\", \"abnormal\"]:\n",
    "            data = globals()[\"{}_{}_{}\".format(g, t, c)]\n",
    "            h = (2*stats.iqr(data)) / (data.shape[0]**(1/3))\n",
    "            n_bins = int((np.max(data) - np.min(data)) / h)\n",
    "            plt.hist(data, bins=n_bins, label=\"{} {}\".format(g, c), histtype=\"step\")\n",
    "    plt.xlabel(\"Errors\")#, size=14)\n",
    "    plt.ylabel(\"Counts\")#, size=14)\n",
    "    plt.title(\"Data Distributions\")\n",
    "    plt.legend()\n",
    "    path = os.path.join(save_path, '{}_distributions.png'.format(t))\n",
    "    plt.savefig(path)\n",
    "    plt.close()"
   ]
  },
  {
   "cell_type": "markdown",
   "id": "df469a2f",
   "metadata": {},
   "source": [
    "### Data partition distribution grouped"
   ]
  },
  {
   "cell_type": "code",
   "execution_count": 14,
   "id": "9598376f",
   "metadata": {},
   "outputs": [],
   "source": [
    "save_path = os.path.join(experiment_folder, \"outputs/graphics/qualitative/grouped_distributions\")\n",
    "if not os.path.isdir(save_path):\n",
    "    os.mkdir(save_path)\n",
    "for t in [\"encoder\", \"contextual\", \"adversarial\"]:\n",
    "    plt.figure(figsize=(15,13))\n",
    "    for g in [\"val\", \"test\", \"all\"]:\n",
    "        for c in [\"normal\", \"abnormal\"]:\n",
    "            data = globals()[\"{}_{}_{}\".format(g, t, c)]\n",
    "            h = (2*stats.iqr(data)) / (data.shape[0]**(1/3))\n",
    "            n_bins = int((np.max(data) - np.min(data)) / h)\n",
    "            plt.hist(data, bins=n_bins, label=\"{} {}\".format(g, c), histtype=\"step\")\n",
    "        plt.xlabel(\"Errors\")#, size=14)\n",
    "        plt.ylabel(\"Counts\")#, size=14)\n",
    "        plt.title(\"Data Distributions\")\n",
    "        plt.legend()\n",
    "        path = os.path.join(save_path, '{}_{}_distributions.png'.format(g, t))\n",
    "        plt.savefig(path)\n",
    "        plt.close()"
   ]
  },
  {
   "cell_type": "markdown",
   "id": "c11817d9",
   "metadata": {},
   "source": [
    "### QQ Plots"
   ]
  },
  {
   "cell_type": "code",
   "execution_count": 22,
   "id": "fb910f9b",
   "metadata": {},
   "outputs": [],
   "source": [
    "save_path = os.path.join(experiment_folder, \"outputs/graphics/qualitative/qq_plots\")\n",
    "if not os.path.isdir(save_path):\n",
    "    os.mkdir(save_path)\n",
    "for t in [\"encoder\", \"contextual\", \"adversarial\"]:\n",
    "    for m in [\"train\", \"val\", \"test\", \"all\"]:\n",
    "        if m == \"train\":\n",
    "            if \"train_encoder_normal\" in globals().keys():\n",
    "                classes = [\"normal\"] \n",
    "            else:\n",
    "                classes = [\"abnormal\"]\n",
    "        else:\n",
    "            classes = [\"normal\", \"abnormal\"]\n",
    "        for c in classes:\n",
    "            data = globals()[\"{}_{}_{}\".format(m, t, c)]\n",
    "            generate_qq_plot(\n",
    "                data, \n",
    "                save_path, \n",
    "                \"{}_{}_{}_qqplot\".format(m, t, c),\n",
    "                \".png\",\n",
    "                np.mean(data),\n",
    "                np.std(data)\n",
    "            )"
   ]
  },
  {
   "cell_type": "markdown",
   "id": "5e4d003a",
   "metadata": {},
   "source": [
    "### Box Plots"
   ]
  },
  {
   "cell_type": "code",
   "execution_count": 18,
   "id": "7ee9d33c",
   "metadata": {},
   "outputs": [],
   "source": [
    "save_path = os.path.join(experiment_folder, \"outputs/graphics/qualitative/box_plots\")\n",
    "if not os.path.isdir(save_path):\n",
    "    os.mkdir(save_path)\n",
    "rows = 1\n",
    "columns = 3\n",
    "for m in [\"val\", \"test\", \"all\"]:\n",
    "    fig, axs = plt.subplots(rows, columns, figsize=(15, 10))\n",
    "    for i, t in enumerate([\"encoder\", \"contextual\", \"adversarial\"]):\n",
    "        data = \"{}_{}_\".format(m, t)\n",
    "        axs[i].boxplot([globals()[data+\"normal\"], globals()[data+\"abnormal\"]], labels=['Normal', 'Abnormal'])\n",
    "        axs[i].set_title(\"{} errors\".format(t))\n",
    "    filename = '{}_boxplot.png'.format(m)\n",
    "    fig.savefig(os.path.join(save_path, filename))\n",
    "    plt.close(fig)"
   ]
  }
 ],
 "metadata": {
  "kernelspec": {
   "display_name": "Python 3 (ipykernel)",
   "language": "python",
   "name": "python3"
  },
  "language_info": {
   "codemirror_mode": {
    "name": "ipython",
    "version": 3
   },
   "file_extension": ".py",
   "mimetype": "text/x-python",
   "name": "python",
   "nbconvert_exporter": "python",
   "pygments_lexer": "ipython3",
   "version": "3.8.10"
  }
 },
 "nbformat": 4,
 "nbformat_minor": 5
}
