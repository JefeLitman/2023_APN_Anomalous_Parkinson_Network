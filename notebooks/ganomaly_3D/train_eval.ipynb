{
 "cells": [
  {
   "cell_type": "markdown",
   "id": "354e0777",
   "metadata": {},
   "source": [
    "# GANomaly 3D Notebook Train and Evaluation"
   ]
  },
  {
   "cell_type": "markdown",
   "id": "7574169a",
   "metadata": {},
   "source": [
    "## Initial Configurations"
   ]
  },
  {
   "cell_type": "markdown",
   "id": "225b1860",
   "metadata": {},
   "source": [
    "### Model Hiperparameters tuning"
   ]
  },
  {
   "cell_type": "code",
   "execution_count": null,
   "id": "04bf695e",
   "metadata": {},
   "outputs": [],
   "source": [
    "# %load '../../models/ganomaly_3D/hiperparameters.py'\n",
    "\"\"\"This file contains all the hiperparameters for GANomaly 3D model. You can modify this file in order to change default values stablished here.\n",
    "Version: 1.6\n",
    "Made by: Edgar Rangel\n",
    "\"\"\"\n",
    "\n",
    "def get_options():\n",
    "    \"\"\"This function return a dictionary with the hiperparameters and options to execute the GANomaly 3D model in any of the selected modes. It doesn't require any parameter.\"\"\"\n",
    "\n",
    "    opts = dict(\n",
    "        gpus = '0', # ID of the GPU which will be used\n",
    "        n_cpus = 16, # Number of CPU cores to use while running\n",
    "        lr = 0.0002, # Learning rate\n",
    "        dataset_path = \"../../datasets/gait_v2/gait_v2.tfrecord\", # Absolute path where the tfrecord is located to be used\n",
    "        normal_class = 0, # Class label that will be the normal data in the training process\n",
    "        kfolds = 1, # Number of kfolds in which the model will be evaluated with the tfrecord. If its 1 then train, val and test partitions will be used.\n",
    "        train_size = 0.7, # Use this attribute if you don't want to use multiple kfolds for the size of data in train.\n",
    "        val_size = 0.2, # Use this attribute if you don't want to use multiple kfolds for the size of data in val.\n",
    "        test_size = 0.1, # Use this attribute if you don't want to use multiple kfolds for the size of data in test.\n",
    "        batch_size = 16, # Input batch size\n",
    "        epochs = 20000, # Quantity of epochs to do in training\n",
    "        seed = 8128, # Seed used to enable the replicability of the experiment\n",
    "        save_path = \"../../results/Ganomaly_3D\", # Path where the experiments will be saved\n",
    "        save_frecuency = 5000, # Integer indicating between how many epochs the results and models will be saved\n",
    "        gen_model_path = \"./results\", # Path where the generator model (h5) is allocated and will be loaded to run trained models\n",
    "        disc_model_path = \"./results\", # Path where the discriminator model (h5) is allocated and will be loaded to run trained models\n",
    "        eval_train = True, # If its True, then the loaded model will evaluate train data and test data together.\n",
    "        isize = 64, # Input size of the videos, e.g. 64 equals to videos with shape 64x64x64\n",
    "        nc = 1, # Quantity of channels in the data\n",
    "        nz = 100, # Context vector size\n",
    "        ngf = 64, # Quantity of initial filters in the first convolution of the encoder\n",
    "        extra_layers = 0, # Quantity of layer blocks to add before reduction\n",
    "        w_adv = 1, # Adversarial loss weight\n",
    "        w_con = 50, # Contextual loss weight\n",
    "        w_enc = 1, # Encoder loss weight\n",
    "        beta_1 = 0.5, # Momentum of beta 1 in adam optimizer for generator and discriminator\n",
    "        beta_2 = 0.999, # Momentum of beta 2 in adam optimizer for generator and discriminator\n",
    "        readme = \"\"\"This file contains information about the experiment made in this instance.\n",
    "\n",
    "All models saved don't include the optimizer, but this file explains how to train in the same conditions.\n",
    "\n",
    "Basic notation:\n",
    "\n",
    "- {i}_Ganomaly3D-{size}x{size}x{size}x{nc}: Experiment id, name of the model and input dimension of model.\n",
    "- H x W x F, F x H x W x C or H x W x C: Data dimensions used where F are frames, H height, W width and C channels.\n",
    "\n",
    "Experiment settings:\n",
    "- The seed used was {seed} for python random module, numpy random and tf random after the library importations.\n",
    "- The batch size was of {batch}.\n",
    "- The optimizer used in this experiment was Adam for generator and discriminator.\n",
    "- The number of classes in this dataset are 2 (Normal and Parkinson) .\n",
    "- This experiment use the data of gait_v2/dataset_09-jun-2022 tfrecord.\n",
    "- The initial lr was of {lr}.\n",
    "- The beta 1 and beta 2 for adam optimizer was {beta_1} and {beta_2} respectively.\n",
    "- The total epochs made in this experiment was of {epochs}.\n",
    "- The context vector size (nz) was of {nz}.\n",
    "- The # channels in data (nc) was of {nc}.\n",
    "- The initial filters in the first convolution of the encoder was {ngf}.\n",
    "- The quantity of layer blocks to add before reduction was of {extra_layers}.\n",
    "- The weights for adversarial, contextual and encoder error respectively in generator were {w_gen}.\n",
    "\n",
    "Transformations applied to data (following this order):\n",
    "- Resize: We resize the frames of volumes to H x W ({size} x {size}).\n",
    "- Equidistant Oversampling volume: We take {size} frames sampled equidistant of volumes to train and test the data.\n",
    "- Convert: We convert the videos in RGB to Grayscale.\n",
    "- Normalize: We normalize the volume with mean and std of 0.5 for both.\n",
    "- Scale: We scale the data between -1 and 1 using min max scaler to be comparable with generated images.\n",
    "- Identify: We identify each video per patient with an integer value.\n",
    "- Randomize: We randomize the order of samples in every epoch.\n",
    "\n",
    "Training process:\n",
    "- The data doesn't have train and test partition but we make the partitions like this:\n",
    "    * ~70% (11 patients) of normal (healthy) data is used in train for kfold {k}.\n",
    "    * ~20% (3 patients) of normal (healthy) data is used in validation for kfold {k}.\n",
    "    * ~10% (2 patients) of normal (healthy) data is used in test for kfold {k}.\n",
    "    * ~20% (3 patients) of abnormal (parkinson) data is used in test for kfold {k}.\n",
    "    * ~10% (2 patients) of abnormal (parkinson) data is used in test for kfold {k}.\n",
    "\"\"\"\n",
    "    )\n",
    "\n",
    "    opts[\"w_gen\"] = (opts[\"w_adv\"], opts[\"w_con\"], opts[\"w_enc\"])\n",
    "    \n",
    "    return opts\n",
    "\n",
    "opts = get_options()"
   ]
  },
  {
   "cell_type": "markdown",
   "id": "43fbd460",
   "metadata": {},
   "source": [
    "### Selecting the device to work with"
   ]
  },
  {
   "cell_type": "code",
   "execution_count": null,
   "id": "7790008f",
   "metadata": {},
   "outputs": [],
   "source": [
    "import os\n",
    "os.environ[\"CUDA_DEVICE_ORDER\"] = \"PCI_BUS_ID\"\n",
    "os.environ[\"CUDA_VISIBLE_DEVICES\"] = opts[\"gpus\"]"
   ]
  },
  {
   "cell_type": "markdown",
   "id": "fab6b427",
   "metadata": {},
   "source": [
    "### Libraries import"
   ]
  },
  {
   "cell_type": "code",
   "execution_count": null,
   "id": "0e11a34a",
   "metadata": {},
   "outputs": [],
   "source": [
    "import sys\n",
    "import numpy as np\n",
    "import tensorflow as tf\n",
    "\n",
    "sys.path.append(\"../../\")"
   ]
  },
  {
   "cell_type": "markdown",
   "id": "3818e156",
   "metadata": {},
   "source": [
    "### Model functions import"
   ]
  },
  {
   "cell_type": "code",
   "execution_count": null,
   "id": "628326d9",
   "metadata": {},
   "outputs": [],
   "source": [
    "from datasets.gait_v2.extraction_methods import get_data\n",
    "from models.ganomaly_3D.utils.splits import split_patients\n",
    "from models.ganomaly_3D.modes.train_eval import exec_loop as train_eval\n",
    "from models.ganomaly_3D.data_preprocessing import preprocess_gait_dataset\n",
    "from utils.metrics import get_true_positives, get_true_negatives, get_false_positives, get_false_negatives, get_AUC, get_mean"
   ]
  },
  {
   "cell_type": "markdown",
   "id": "9e31005a",
   "metadata": {},
   "source": [
    "### GPU Memory Configuration"
   ]
  },
  {
   "cell_type": "code",
   "execution_count": null,
   "id": "def1f8f2",
   "metadata": {},
   "outputs": [],
   "source": [
    "if os.getenv(\"CUDA_VISIBLE_DEVICES\") != '-1':\n",
    "    gpus = tf.config.experimental.list_physical_devices('GPU')\n",
    "    for gpu in gpus:\n",
    "        tf.config.experimental.set_memory_growth(gpu, True)\n",
    "tf.debugging.set_log_device_placement(False)"
   ]
  },
  {
   "cell_type": "markdown",
   "id": "9930f45f",
   "metadata": {},
   "source": [
    "## Dataset pre processing"
   ]
  },
  {
   "cell_type": "code",
   "execution_count": null,
   "id": "51d76530",
   "metadata": {},
   "outputs": [],
   "source": [
    "total_data = get_data(opts[\"dataset_path\"], opts[\"n_cpus\"])\n",
    "total_data"
   ]
  },
  {
   "cell_type": "code",
   "execution_count": null,
   "id": "536874ec",
   "metadata": {},
   "outputs": [],
   "source": [
    "shape_videos = []\n",
    "labels_videos = []\n",
    "patients_ids = []\n",
    "for x, y, z in total_data:\n",
    "    shape_videos.append(x.numpy().shape)\n",
    "    labels_videos.append(y.numpy())\n",
    "    patients_ids.append(z.numpy())\n",
    "shape_videos = np.r_[shape_videos]\n",
    "labels_videos = np.r_[labels_videos]\n",
    "patients_ids = np.r_[patients_ids]\n",
    "print(\"Data information about the data\")\n",
    "print(\"Total videos: \", shape_videos.shape[0])\n",
    "print(\"Min value of frames: \", np.min(shape_videos[:,0]))\n",
    "print(\"Max value of frames: \", np.max(shape_videos[:,0]))\n",
    "print(\"Mean value of frames: \", np.mean(shape_videos[:,0]))\n",
    "print(\"Unique ids: \", np.unique(patients_ids))"
   ]
  },
  {
   "cell_type": "code",
   "execution_count": null,
   "id": "2de29666",
   "metadata": {},
   "outputs": [],
   "source": [
    "ns = {i:0 for i in np.unique(labels_videos)}\n",
    "videos_4_pat = {i:0 for i in np.unique(patients_ids)}\n",
    "for i, forma in enumerate(shape_videos):\n",
    "    frames = opts[\"isize\"]\n",
    "    to_sum = np.ceil(forma[0] / frames).astype(np.int64)\n",
    "    videos_4_pat[patients_ids[i]] += to_sum\n",
    "    ns[labels_videos[i]] += to_sum\n",
    "for i in ns:\n",
    "    print(\"Video clips for label {}: {}\".format(i, ns[i]))"
   ]
  },
  {
   "cell_type": "code",
   "execution_count": null,
   "id": "ea945205",
   "metadata": {},
   "outputs": [],
   "source": [
    "normal_patients_ids = np.unique(patients_ids[labels_videos == opts['normal_class']])\n",
    "abnormal_patients_ids = np.unique(patients_ids[labels_videos != opts['normal_class']])\n",
    "\n",
    "normal_patients_ids, abnormal_patients_ids"
   ]
  },
  {
   "cell_type": "code",
   "execution_count": null,
   "id": "8a71746d",
   "metadata": {},
   "outputs": [],
   "source": [
    "normal_patients, abnormal_patients = preprocess_gait_dataset(\n",
    "    total_data, \n",
    "    opts,\n",
    "    normal_patients_ids,\n",
    "    abnormal_patients_ids\n",
    ")\n",
    "normal_patients, abnormal_patients"
   ]
  },
  {
   "cell_type": "markdown",
   "id": "0b1db72e",
   "metadata": {},
   "source": [
    "## Model pre requisites"
   ]
  },
  {
   "cell_type": "markdown",
   "id": "5edf6245",
   "metadata": {},
   "source": [
    "### Data partitions"
   ]
  },
  {
   "cell_type": "code",
   "execution_count": null,
   "id": "9938f533",
   "metadata": {},
   "outputs": [],
   "source": [
    "train_folds, val_folds, test_folds = split_patients(opts, videos_4_pat, normal_patients, normal_patients_ids, abnormal_patients, abnormal_patients_ids)\n",
    "train_folds"
   ]
  },
  {
   "cell_type": "markdown",
   "id": "8f581bb7",
   "metadata": {},
   "source": [
    "### Metrics creation"
   ]
  },
  {
   "cell_type": "code",
   "execution_count": null,
   "id": "201fbc7a",
   "metadata": {},
   "outputs": [],
   "source": [
    "TP = get_true_positives()\n",
    "TN = get_true_negatives()\n",
    "FP = get_false_positives()\n",
    "FN = get_false_negatives()\n",
    "AUC = get_AUC()"
   ]
  },
  {
   "cell_type": "markdown",
   "id": "a75b81f1",
   "metadata": {},
   "source": [
    "### Loop execution"
   ]
  },
  {
   "cell_type": "code",
   "execution_count": null,
   "id": "b68831a0",
   "metadata": {
    "scrolled": true
   },
   "outputs": [],
   "source": [
    "for k in range(opts['kfolds']):\n",
    "    test(\n",
    "        opts, \n",
    "        TP,\n",
    "        TN,\n",
    "        FP,\n",
    "        FN,\n",
    "        AUC,\n",
    "        train_folds[k],\n",
    "        test_folds[k]\n",
    "    )"
   ]
  }
 ],
 "metadata": {
  "kernelspec": {
   "display_name": "Python 3 (ipykernel)",
   "language": "python",
   "name": "python3"
  },
  "language_info": {
   "codemirror_mode": {
    "name": "ipython",
    "version": 3
   },
   "file_extension": ".py",
   "mimetype": "text/x-python",
   "name": "python",
   "nbconvert_exporter": "python",
   "pygments_lexer": "ipython3",
   "version": "3.8.10"
  }
 },
 "nbformat": 4,
 "nbformat_minor": 5
}
