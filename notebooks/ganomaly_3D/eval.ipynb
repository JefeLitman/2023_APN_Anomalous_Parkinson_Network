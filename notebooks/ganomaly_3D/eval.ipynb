{
 "cells": [
  {
   "cell_type": "markdown",
   "id": "354e0777",
   "metadata": {},
   "source": [
    "# GANomaly 3D Notebook Evaluation"
   ]
  },
  {
   "cell_type": "markdown",
   "id": "7574169a",
   "metadata": {},
   "source": [
    "## Initial Configurations"
   ]
  },
  {
   "cell_type": "markdown",
   "id": "225b1860",
   "metadata": {},
   "source": [
    "### Model Hiperparameters tuning"
   ]
  },
  {
   "cell_type": "code",
   "execution_count": 1,
   "id": "04bf695e",
   "metadata": {},
   "outputs": [],
   "source": [
    "# %load '../../models/ganomaly_3D/hiperparameters.py'\n",
    "\"\"\"This file contains all the hiperparameters for GANomaly 3D model. You can modify this file in order to change default values stablished here.\n",
    "Version: 1.5\n",
    "Made by: Edgar Rangel\n",
    "\"\"\"\n",
    "\n",
    "def get_options():\n",
    "    \"\"\"This function return a dictionary with the hiperparameters and options to execute the GANomaly 3D model in any of the selected modes. It doesn't require any parameter.\"\"\"\n",
    "\n",
    "    opts = dict(\n",
    "        gpus = '1', # ID of the GPU which will be used\n",
    "        n_cpus = 16, # Number of CPU cores to use while running\n",
    "        lr = 0.0002, # Learning rate\n",
    "        dataset_path = \"../../datasets/gait_v2/gait_v2.tfrecord\", # Absolute path where the tfrecord is located to be used\n",
    "        normal_class = 1, # Class label that will be the normal data in the training process\n",
    "        kfolds = 5, # Number of kfolds in which the model will be evaluated with the tfrecord\n",
    "        batch_size = 16, # Input batch size\n",
    "        epochs = 20000, # Quantity of epochs to do in training\n",
    "        seed = 8128, # Seed used to enable the replicability of the experiment\n",
    "        save_path = \"../../results/Ganomaly_3D/0004_eval_of_0002\", # Path where the experiments will be saved\n",
    "        save_frecuency = 1000, # Integer indicating between how many epochs the results and models will be saved\n",
    "        gen_model_path = \"../../results/Ganomaly_3D/0002_train_parkinson\", # Path where the generator model (h5) is allocated and will be loaded to run trained models\n",
    "        disc_model_path = \"../../results/Ganomaly_3D/0002_train_parkinson\", # Path where the discriminator model (h5) is allocated and will be loaded to run trained models\n",
    "        eval_train = True, # If its True, then the loaded model will evaluate train data and test data together.\n",
    "        isize = 64, # Input size of the videos, e.g. 64 equals to videos with shape 64x64x64\n",
    "        nc = 1, # Quantity of channels in the data\n",
    "        nz = 100, # Context vector size\n",
    "        ngf = 64, # Quantity of initial filters in the first convolution of the encoder\n",
    "        extra_layers = 0, # Quantity of layer blocks to add before reduction\n",
    "        w_adv = 1, # Adversarial loss weight\n",
    "        w_con = 50, # Contextual loss weight\n",
    "        w_enc = 1, # Encoder loss weight\n",
    "        beta_1 = 0.5, # Momentum of beta 1 in adam optimizer for generator and discriminator\n",
    "        beta_2 = 0.999, # Momentum of beta 2 in adam optimizer for generator and discriminator\n",
    "        readme = \"\"\"This file contains information about the experiment made in this instance.\n",
    "\n",
    "All models saved don't include the optimizer, but this file explains how to train in the same conditions.\n",
    "\n",
    "Basic notation:\n",
    "\n",
    "- {i}_Ganomaly3D-{size}x{size}x{size}x{nc}: Experiment id, name of the model and input dimension of model.\n",
    "- H x W x F, F x H x W x C or H x W x C: Data dimensions used where F are frames, H height, W width and C channels.\n",
    "\n",
    "Experiment settings:\n",
    "- The seed used was {seed} for python random module, numpy random and tf random after the library importations.\n",
    "- The batch size was of {batch}.\n",
    "- The optimizer used in this experiment was Adam for generator and discriminator.\n",
    "- The number of classes in this dataset are 2 (Normal and Parkinson) .\n",
    "- This experiment use the data of gait_v2/dataset_09-jun-2022 tfrecord.\n",
    "- The initial lr was of {lr}.\n",
    "- The beta 1 and beta 2 for adam optimizer was {beta_1} and {beta_2} respectively.\n",
    "- The total epochs made in this experiment was of {epochs}.\n",
    "- The context vector size (nz) was of {nz}.\n",
    "- The # channels in data (nc) was of {nc}.\n",
    "- The initial filters in the first convolution of the encoder was {ngf}.\n",
    "- The quantity of layer blocks to add before reduction was of {extra_layers}.\n",
    "- The weights for adversarial, contextual and encoder error respectively in generator were {w_gen}.\n",
    "\n",
    "Transformations applied to data (following this order):\n",
    "- Resize: We resize the frames of volumes to H x W ({size} x {size}).\n",
    "- Equidistant Oversampling volume: We take {size} frames sampled equidistant of volumes to train and test the data.\n",
    "- Convert: We convert the videos in RGB to Grayscale.\n",
    "- Normalize: We normalize the volume with mean and std of 0.5 for both.\n",
    "- Scale: We scale the data between -1 and 1 using min max scaler to be comparable with generated images.\n",
    "- Identify: We identify each video per patient with an integer value.\n",
    "- Randomize: We randomize the order of samples in every epoch.\n",
    "\n",
    "Training process:\n",
    "- The data doesn't have train and test partition but we make the partitions like this:\n",
    "    * ~80% (11 patients) of normal (parkinson) data is used in train for kfold {k}.\n",
    "    * ~20% (3 patients) of normal (parkinson) data is used in test for kfold {k}.\n",
    "    * ~20% (3 patients) of abnormal (healthy) data are used in test for kfold {k}.\n",
    "\"\"\"\n",
    "    )\n",
    "\n",
    "    opts[\"w_gen\"] = (opts[\"w_adv\"], opts[\"w_con\"], opts[\"w_enc\"])\n",
    "    \n",
    "    return opts\n",
    "\n",
    "opts = get_options()"
   ]
  },
  {
   "cell_type": "markdown",
   "id": "43fbd460",
   "metadata": {},
   "source": [
    "### Selecting the device to work with"
   ]
  },
  {
   "cell_type": "code",
   "execution_count": 2,
   "id": "7790008f",
   "metadata": {},
   "outputs": [],
   "source": [
    "import os\n",
    "os.environ[\"CUDA_DEVICE_ORDER\"] = \"PCI_BUS_ID\"\n",
    "os.environ[\"CUDA_VISIBLE_DEVICES\"] = opts[\"gpus\"]"
   ]
  },
  {
   "cell_type": "markdown",
   "id": "fab6b427",
   "metadata": {},
   "source": [
    "### Libraries import"
   ]
  },
  {
   "cell_type": "code",
   "execution_count": 3,
   "id": "0e11a34a",
   "metadata": {},
   "outputs": [
    {
     "name": "stderr",
     "output_type": "stream",
     "text": [
      "2022-08-03 01:41:51.329039: I tensorflow/core/util/util.cc:169] oneDNN custom operations are on. You may see slightly different numerical results due to floating-point round-off errors from different computation orders. To turn them off, set the environment variable `TF_ENABLE_ONEDNN_OPTS=0`.\n"
     ]
    }
   ],
   "source": [
    "import sys\n",
    "import numpy as np\n",
    "import tensorflow as tf\n",
    "from sklearn.model_selection import KFold\n",
    "\n",
    "sys.path.append(\"../../\")"
   ]
  },
  {
   "cell_type": "markdown",
   "id": "3818e156",
   "metadata": {},
   "source": [
    "### Model functions import"
   ]
  },
  {
   "cell_type": "code",
   "execution_count": 4,
   "id": "628326d9",
   "metadata": {},
   "outputs": [],
   "source": [
    "from datasets.gait_v2.extraction_methods import get_data\n",
    "from models.ganomaly_3D.modes.eval import exec_loop as test\n",
    "from models.ganomaly_3D.data_preprocessing import preprocess_gait_dataset\n",
    "from utils.metrics import get_true_positives, get_true_negatives, get_false_positives, get_false_negatives, get_AUC, get_mean"
   ]
  },
  {
   "cell_type": "markdown",
   "id": "9e31005a",
   "metadata": {},
   "source": [
    "### GPU Memory Configuration"
   ]
  },
  {
   "cell_type": "code",
   "execution_count": 5,
   "id": "def1f8f2",
   "metadata": {},
   "outputs": [],
   "source": [
    "if os.getenv(\"CUDA_VISIBLE_DEVICES\") != '-1':\n",
    "    gpus = tf.config.experimental.list_physical_devices('GPU')\n",
    "    for gpu in gpus:\n",
    "        tf.config.experimental.set_memory_growth(gpu, True)\n",
    "tf.debugging.set_log_device_placement(False)"
   ]
  },
  {
   "cell_type": "markdown",
   "id": "9930f45f",
   "metadata": {},
   "source": [
    "## Dataset pre processing"
   ]
  },
  {
   "cell_type": "code",
   "execution_count": 6,
   "id": "51d76530",
   "metadata": {},
   "outputs": [
    {
     "name": "stderr",
     "output_type": "stream",
     "text": [
      "2022-08-03 01:42:00.207678: I tensorflow/core/platform/cpu_feature_guard.cc:193] This TensorFlow binary is optimized with oneAPI Deep Neural Network Library (oneDNN) to use the following CPU instructions in performance-critical operations:  AVX2 AVX512F AVX512_VNNI FMA\n",
      "To enable them in other operations, rebuild TensorFlow with the appropriate compiler flags.\n",
      "2022-08-03 01:42:02.699575: I tensorflow/core/common_runtime/gpu/gpu_device.cc:1532] Created device /job:localhost/replica:0/task:0/device:GPU:0 with 7374 MB memory:  -> device: 0, name: NVIDIA GeForce RTX 3080, pci bus id: 0000:1c:00.0, compute capability: 8.6\n"
     ]
    },
    {
     "data": {
      "text/plain": [
       "<ParallelMapDataset element_spec=(TensorSpec(shape=(None, None, None, None), dtype=tf.float32, name=None), TensorSpec(shape=(), dtype=tf.int64, name=None), TensorSpec(shape=(), dtype=tf.int64, name=None))>"
      ]
     },
     "execution_count": 6,
     "metadata": {},
     "output_type": "execute_result"
    }
   ],
   "source": [
    "total_data = get_data(opts[\"dataset_path\"], opts[\"n_cpus\"])\n",
    "total_data"
   ]
  },
  {
   "cell_type": "code",
   "execution_count": 7,
   "id": "536874ec",
   "metadata": {},
   "outputs": [
    {
     "name": "stdout",
     "output_type": "stream",
     "text": [
      "Data information about the data\n",
      "Total videos:  240\n",
      "Min value of frames:  72\n",
      "Max value of frames:  387\n",
      "Mean value of frames:  144.6375\n",
      "Unique ids:  [ 1  2  3  4  5  6  7  8  9 10 11 12 13 14 15 16 17 18 19 20 21 22 23 24\n",
      " 25 26 27 28 29 30]\n"
     ]
    }
   ],
   "source": [
    "shape_videos = []\n",
    "labels_videos = []\n",
    "patients_ids = []\n",
    "for x, y, z in total_data:\n",
    "    shape_videos.append(x.numpy().shape)\n",
    "    labels_videos.append(y.numpy())\n",
    "    patients_ids.append(z.numpy())\n",
    "shape_videos = np.r_[shape_videos]\n",
    "labels_videos = np.r_[labels_videos]\n",
    "patients_ids = np.r_[patients_ids]\n",
    "print(\"Data information about the data\")\n",
    "print(\"Total videos: \", shape_videos.shape[0])\n",
    "print(\"Min value of frames: \", np.min(shape_videos[:,0]))\n",
    "print(\"Max value of frames: \", np.max(shape_videos[:,0]))\n",
    "print(\"Mean value of frames: \", np.mean(shape_videos[:,0]))\n",
    "print(\"Unique ids: \", np.unique(patients_ids))"
   ]
  },
  {
   "cell_type": "code",
   "execution_count": 8,
   "id": "2de29666",
   "metadata": {},
   "outputs": [
    {
     "name": "stdout",
     "output_type": "stream",
     "text": [
      "Video clips for label 0: 351\n",
      "Video clips for label 1: 313\n"
     ]
    }
   ],
   "source": [
    "ns = {i:0 for i in np.unique(labels_videos)}\n",
    "videos_4_pat = {i:0 for i in np.unique(patients_ids)}\n",
    "for i, forma in enumerate(shape_videos):\n",
    "    frames = opts[\"isize\"]\n",
    "    to_sum = np.ceil(forma[0] / frames).astype(np.int64)\n",
    "    videos_4_pat[patients_ids[i]] += to_sum\n",
    "    ns[labels_videos[i]] += to_sum\n",
    "for i in ns:\n",
    "    print(\"Video clips for label {}: {}\".format(i, ns[i]))"
   ]
  },
  {
   "cell_type": "code",
   "execution_count": 9,
   "id": "ea945205",
   "metadata": {},
   "outputs": [
    {
     "data": {
      "text/plain": [
       "(array([12, 13, 14, 15, 16, 17, 18, 19, 20, 21, 22, 26, 28, 29]),\n",
       " array([ 1,  2,  3,  4,  5,  6,  7,  8,  9, 10, 11, 23, 24, 25, 27, 30]))"
      ]
     },
     "execution_count": 9,
     "metadata": {},
     "output_type": "execute_result"
    }
   ],
   "source": [
    "normal_patients_ids = np.unique(patients_ids[labels_videos == opts['normal_class']])\n",
    "abnormal_patients_ids = np.unique(patients_ids[labels_videos != opts['normal_class']])\n",
    "\n",
    "normal_patients_ids, abnormal_patients_ids"
   ]
  },
  {
   "cell_type": "code",
   "execution_count": 10,
   "id": "8a71746d",
   "metadata": {},
   "outputs": [
    {
     "data": {
      "text/plain": [
       "([<CacheDataset element_spec=(TensorSpec(shape=(64, 64, 64, 1), dtype=tf.float32, name=None), TensorSpec(shape=(), dtype=tf.int64, name=None), TensorSpec(shape=(), dtype=tf.int64, name=None), TensorSpec(shape=(), dtype=tf.int64, name=None))>,\n",
       "  <CacheDataset element_spec=(TensorSpec(shape=(64, 64, 64, 1), dtype=tf.float32, name=None), TensorSpec(shape=(), dtype=tf.int64, name=None), TensorSpec(shape=(), dtype=tf.int64, name=None), TensorSpec(shape=(), dtype=tf.int64, name=None))>,\n",
       "  <CacheDataset element_spec=(TensorSpec(shape=(64, 64, 64, 1), dtype=tf.float32, name=None), TensorSpec(shape=(), dtype=tf.int64, name=None), TensorSpec(shape=(), dtype=tf.int64, name=None), TensorSpec(shape=(), dtype=tf.int64, name=None))>,\n",
       "  <CacheDataset element_spec=(TensorSpec(shape=(64, 64, 64, 1), dtype=tf.float32, name=None), TensorSpec(shape=(), dtype=tf.int64, name=None), TensorSpec(shape=(), dtype=tf.int64, name=None), TensorSpec(shape=(), dtype=tf.int64, name=None))>,\n",
       "  <CacheDataset element_spec=(TensorSpec(shape=(64, 64, 64, 1), dtype=tf.float32, name=None), TensorSpec(shape=(), dtype=tf.int64, name=None), TensorSpec(shape=(), dtype=tf.int64, name=None), TensorSpec(shape=(), dtype=tf.int64, name=None))>,\n",
       "  <CacheDataset element_spec=(TensorSpec(shape=(64, 64, 64, 1), dtype=tf.float32, name=None), TensorSpec(shape=(), dtype=tf.int64, name=None), TensorSpec(shape=(), dtype=tf.int64, name=None), TensorSpec(shape=(), dtype=tf.int64, name=None))>,\n",
       "  <CacheDataset element_spec=(TensorSpec(shape=(64, 64, 64, 1), dtype=tf.float32, name=None), TensorSpec(shape=(), dtype=tf.int64, name=None), TensorSpec(shape=(), dtype=tf.int64, name=None), TensorSpec(shape=(), dtype=tf.int64, name=None))>,\n",
       "  <CacheDataset element_spec=(TensorSpec(shape=(64, 64, 64, 1), dtype=tf.float32, name=None), TensorSpec(shape=(), dtype=tf.int64, name=None), TensorSpec(shape=(), dtype=tf.int64, name=None), TensorSpec(shape=(), dtype=tf.int64, name=None))>,\n",
       "  <CacheDataset element_spec=(TensorSpec(shape=(64, 64, 64, 1), dtype=tf.float32, name=None), TensorSpec(shape=(), dtype=tf.int64, name=None), TensorSpec(shape=(), dtype=tf.int64, name=None), TensorSpec(shape=(), dtype=tf.int64, name=None))>,\n",
       "  <CacheDataset element_spec=(TensorSpec(shape=(64, 64, 64, 1), dtype=tf.float32, name=None), TensorSpec(shape=(), dtype=tf.int64, name=None), TensorSpec(shape=(), dtype=tf.int64, name=None), TensorSpec(shape=(), dtype=tf.int64, name=None))>,\n",
       "  <CacheDataset element_spec=(TensorSpec(shape=(64, 64, 64, 1), dtype=tf.float32, name=None), TensorSpec(shape=(), dtype=tf.int64, name=None), TensorSpec(shape=(), dtype=tf.int64, name=None), TensorSpec(shape=(), dtype=tf.int64, name=None))>,\n",
       "  <CacheDataset element_spec=(TensorSpec(shape=(64, 64, 64, 1), dtype=tf.float32, name=None), TensorSpec(shape=(), dtype=tf.int64, name=None), TensorSpec(shape=(), dtype=tf.int64, name=None), TensorSpec(shape=(), dtype=tf.int64, name=None))>,\n",
       "  <CacheDataset element_spec=(TensorSpec(shape=(64, 64, 64, 1), dtype=tf.float32, name=None), TensorSpec(shape=(), dtype=tf.int64, name=None), TensorSpec(shape=(), dtype=tf.int64, name=None), TensorSpec(shape=(), dtype=tf.int64, name=None))>,\n",
       "  <CacheDataset element_spec=(TensorSpec(shape=(64, 64, 64, 1), dtype=tf.float32, name=None), TensorSpec(shape=(), dtype=tf.int64, name=None), TensorSpec(shape=(), dtype=tf.int64, name=None), TensorSpec(shape=(), dtype=tf.int64, name=None))>],\n",
       " [<CacheDataset element_spec=(TensorSpec(shape=(64, 64, 64, 1), dtype=tf.float32, name=None), TensorSpec(shape=(), dtype=tf.int64, name=None), TensorSpec(shape=(), dtype=tf.int64, name=None), TensorSpec(shape=(), dtype=tf.int64, name=None))>,\n",
       "  <CacheDataset element_spec=(TensorSpec(shape=(64, 64, 64, 1), dtype=tf.float32, name=None), TensorSpec(shape=(), dtype=tf.int64, name=None), TensorSpec(shape=(), dtype=tf.int64, name=None), TensorSpec(shape=(), dtype=tf.int64, name=None))>,\n",
       "  <CacheDataset element_spec=(TensorSpec(shape=(64, 64, 64, 1), dtype=tf.float32, name=None), TensorSpec(shape=(), dtype=tf.int64, name=None), TensorSpec(shape=(), dtype=tf.int64, name=None), TensorSpec(shape=(), dtype=tf.int64, name=None))>,\n",
       "  <CacheDataset element_spec=(TensorSpec(shape=(64, 64, 64, 1), dtype=tf.float32, name=None), TensorSpec(shape=(), dtype=tf.int64, name=None), TensorSpec(shape=(), dtype=tf.int64, name=None), TensorSpec(shape=(), dtype=tf.int64, name=None))>,\n",
       "  <CacheDataset element_spec=(TensorSpec(shape=(64, 64, 64, 1), dtype=tf.float32, name=None), TensorSpec(shape=(), dtype=tf.int64, name=None), TensorSpec(shape=(), dtype=tf.int64, name=None), TensorSpec(shape=(), dtype=tf.int64, name=None))>,\n",
       "  <CacheDataset element_spec=(TensorSpec(shape=(64, 64, 64, 1), dtype=tf.float32, name=None), TensorSpec(shape=(), dtype=tf.int64, name=None), TensorSpec(shape=(), dtype=tf.int64, name=None), TensorSpec(shape=(), dtype=tf.int64, name=None))>,\n",
       "  <CacheDataset element_spec=(TensorSpec(shape=(64, 64, 64, 1), dtype=tf.float32, name=None), TensorSpec(shape=(), dtype=tf.int64, name=None), TensorSpec(shape=(), dtype=tf.int64, name=None), TensorSpec(shape=(), dtype=tf.int64, name=None))>,\n",
       "  <CacheDataset element_spec=(TensorSpec(shape=(64, 64, 64, 1), dtype=tf.float32, name=None), TensorSpec(shape=(), dtype=tf.int64, name=None), TensorSpec(shape=(), dtype=tf.int64, name=None), TensorSpec(shape=(), dtype=tf.int64, name=None))>,\n",
       "  <CacheDataset element_spec=(TensorSpec(shape=(64, 64, 64, 1), dtype=tf.float32, name=None), TensorSpec(shape=(), dtype=tf.int64, name=None), TensorSpec(shape=(), dtype=tf.int64, name=None), TensorSpec(shape=(), dtype=tf.int64, name=None))>,\n",
       "  <CacheDataset element_spec=(TensorSpec(shape=(64, 64, 64, 1), dtype=tf.float32, name=None), TensorSpec(shape=(), dtype=tf.int64, name=None), TensorSpec(shape=(), dtype=tf.int64, name=None), TensorSpec(shape=(), dtype=tf.int64, name=None))>,\n",
       "  <CacheDataset element_spec=(TensorSpec(shape=(64, 64, 64, 1), dtype=tf.float32, name=None), TensorSpec(shape=(), dtype=tf.int64, name=None), TensorSpec(shape=(), dtype=tf.int64, name=None), TensorSpec(shape=(), dtype=tf.int64, name=None))>,\n",
       "  <CacheDataset element_spec=(TensorSpec(shape=(64, 64, 64, 1), dtype=tf.float32, name=None), TensorSpec(shape=(), dtype=tf.int64, name=None), TensorSpec(shape=(), dtype=tf.int64, name=None), TensorSpec(shape=(), dtype=tf.int64, name=None))>,\n",
       "  <CacheDataset element_spec=(TensorSpec(shape=(64, 64, 64, 1), dtype=tf.float32, name=None), TensorSpec(shape=(), dtype=tf.int64, name=None), TensorSpec(shape=(), dtype=tf.int64, name=None), TensorSpec(shape=(), dtype=tf.int64, name=None))>,\n",
       "  <CacheDataset element_spec=(TensorSpec(shape=(64, 64, 64, 1), dtype=tf.float32, name=None), TensorSpec(shape=(), dtype=tf.int64, name=None), TensorSpec(shape=(), dtype=tf.int64, name=None), TensorSpec(shape=(), dtype=tf.int64, name=None))>,\n",
       "  <CacheDataset element_spec=(TensorSpec(shape=(64, 64, 64, 1), dtype=tf.float32, name=None), TensorSpec(shape=(), dtype=tf.int64, name=None), TensorSpec(shape=(), dtype=tf.int64, name=None), TensorSpec(shape=(), dtype=tf.int64, name=None))>,\n",
       "  <CacheDataset element_spec=(TensorSpec(shape=(64, 64, 64, 1), dtype=tf.float32, name=None), TensorSpec(shape=(), dtype=tf.int64, name=None), TensorSpec(shape=(), dtype=tf.int64, name=None), TensorSpec(shape=(), dtype=tf.int64, name=None))>])"
      ]
     },
     "execution_count": 10,
     "metadata": {},
     "output_type": "execute_result"
    }
   ],
   "source": [
    "normal_patients, abnormal_patients = preprocess_gait_dataset(\n",
    "    total_data, \n",
    "    opts,\n",
    "    normal_patients_ids,\n",
    "    abnormal_patients_ids\n",
    ")\n",
    "normal_patients, abnormal_patients"
   ]
  },
  {
   "cell_type": "markdown",
   "id": "0b1db72e",
   "metadata": {},
   "source": [
    "## Model pre requisites"
   ]
  },
  {
   "cell_type": "markdown",
   "id": "5edf6245",
   "metadata": {},
   "source": [
    "### Data partitions"
   ]
  },
  {
   "cell_type": "code",
   "execution_count": 11,
   "id": "9938f533",
   "metadata": {},
   "outputs": [
    {
     "name": "stdout",
     "output_type": "stream",
     "text": [
      "Kfold 1\n",
      "\tNormal train ids: [12, 13, 14, 15, 16, 17, 18, 20, 21, 22, 28]\n",
      "\tNormal test ids: [19, 26, 29]\n",
      "Kfold 2\n",
      "\tNormal train ids: [12, 15, 17, 18, 19, 20, 21, 22, 26, 28, 29]\n",
      "\tNormal test ids: [13, 14, 16]\n",
      "Kfold 3\n",
      "\tNormal train ids: [12, 13, 14, 16, 17, 18, 19, 21, 26, 28, 29]\n",
      "\tNormal test ids: [15, 20, 22]\n",
      "Kfold 4\n",
      "\tNormal train ids: [13, 14, 15, 16, 19, 20, 21, 22, 26, 28, 29]\n",
      "\tNormal test ids: [12, 17, 18]\n",
      "Kfold 5\n",
      "\tNormal train ids: [12, 13, 14, 15, 16, 17, 18, 19, 20, 22, 26, 29]\n",
      "\tNormal test ids: [21, 28]\n",
      "Kfold 1\n",
      "\tAbnormal test ids: [8, 9, 25, 30]\n",
      "Kfold 2\n",
      "\tAbnormal test ids: [3, 4, 5]\n",
      "Kfold 3\n",
      "\tAbnormal test ids: [2, 11, 27]\n",
      "Kfold 4\n",
      "\tAbnormal test ids: [6, 7, 23]\n",
      "Kfold 5\n",
      "\tAbnormal test ids: [1, 10, 24]\n"
     ]
    }
   ],
   "source": [
    "kfolds = opts[\"kfolds\"]\n",
    "seed = opts[\"seed\"]\n",
    "kf = KFold(n_splits=kfolds, shuffle=True, random_state=seed)\n",
    "train_folds = []\n",
    "test_folds = []\n",
    "test_totals = [0] * kfolds\n",
    "for k, (train_indexes, test_indexes) in enumerate(kf.split(normal_patients)):\n",
    "    data = normal_patients[train_indexes[0]]\n",
    "    total_samples = videos_4_pat[normal_patients_ids[train_indexes[0]]]\n",
    "    for i in range(1, len(train_indexes)):\n",
    "        data = data.concatenate(normal_patients[train_indexes[i]])\n",
    "        total_samples += videos_4_pat[normal_patients_ids[train_indexes[i]]]\n",
    "    train_folds.append(\n",
    "        data.shuffle(\n",
    "            total_samples, \n",
    "            reshuffle_each_iteration=True\n",
    "        ).batch(\n",
    "            opts['batch_size']\n",
    "        ).prefetch(-1)\n",
    "    )\n",
    "\n",
    "    data = normal_patients[test_indexes[0]]\n",
    "    test_totals[k] += videos_4_pat[normal_patients_ids[test_indexes[0]]]\n",
    "    for i in range(1, len(test_indexes)):\n",
    "        data = data.concatenate(normal_patients[test_indexes[i]])\n",
    "        test_totals[k] += videos_4_pat[normal_patients_ids[test_indexes[i]]]\n",
    "    test_folds.append(data)\n",
    "\n",
    "    print(\"Kfold {}\\n\\tNormal train ids: {}\\n\\tNormal test ids: {}\".format(\n",
    "        k + 1,\n",
    "        [normal_patients_ids[i] for i in train_indexes],\n",
    "        [normal_patients_ids[i] for i in test_indexes]\n",
    "    ))\n",
    "\n",
    "for k , (_, test_indexes) in enumerate(kf.split(abnormal_patients)):\n",
    "    data = abnormal_patients[test_indexes[0]]\n",
    "    test_totals[k] += videos_4_pat[abnormal_patients_ids[test_indexes[0]]]\n",
    "    for i in range(1, len(test_indexes)):\n",
    "        data = data.concatenate(abnormal_patients[test_indexes[i]])\n",
    "        test_totals[k] += videos_4_pat[abnormal_patients_ids[test_indexes[i]]]\n",
    "    test_folds[k] = test_folds[k].concatenate(\n",
    "        data\n",
    "    ).shuffle(\n",
    "        test_totals[k], \n",
    "        reshuffle_each_iteration=True\n",
    "    ).batch(\n",
    "        opts['batch_size']\n",
    "    ).prefetch(-1)\n",
    "\n",
    "    print(\"Kfold {}\\n\\tAbnormal test ids: {}\".format(\n",
    "        k + 1,\n",
    "        [abnormal_patients_ids[i] for i in test_indexes]\n",
    "    ))"
   ]
  },
  {
   "cell_type": "markdown",
   "id": "8f581bb7",
   "metadata": {},
   "source": [
    "### Metrics creation"
   ]
  },
  {
   "cell_type": "code",
   "execution_count": 13,
   "id": "201fbc7a",
   "metadata": {},
   "outputs": [],
   "source": [
    "TP = get_true_positives()\n",
    "TN = get_true_negatives()\n",
    "FP = get_false_positives()\n",
    "FN = get_false_negatives()\n",
    "AUC = get_AUC()"
   ]
  },
  {
   "cell_type": "markdown",
   "id": "a75b81f1",
   "metadata": {},
   "source": [
    "### Loop execution"
   ]
  },
  {
   "cell_type": "code",
   "execution_count": null,
   "id": "b68831a0",
   "metadata": {},
   "outputs": [
    {
     "name": "stdout",
     "output_type": "stream",
     "text": [
      "WARNING:tensorflow:No training configuration found in the save file, so the model was *not* compiled. Compile it manually.\n",
      "WARNING:tensorflow:No training configuration found in the save file, so the model was *not* compiled. Compile it manually.\n"
     ]
    },
    {
     "name": "stderr",
     "output_type": "stream",
     "text": [
      "2022-08-03 02:11:58.381075: I tensorflow/core/kernels/data/shuffle_dataset_op.cc:390] Filling up shuffle buffer (this may take a while): 1 of 243\n",
      "2022-08-03 02:11:58.381174: I tensorflow/core/kernels/data/shuffle_dataset_op.cc:390] Filling up shuffle buffer (this may take a while): 2 of 243\n",
      "2022-08-03 02:11:58.381280: I tensorflow/core/kernels/data/shuffle_dataset_op.cc:390] Filling up shuffle buffer (this may take a while): 3 of 243\n",
      "2022-08-03 02:13:58.916085: I tensorflow/core/kernels/data/shuffle_dataset_op.cc:390] Filling up shuffle buffer (this may take a while): 25 of 243\n",
      "2022-08-03 02:13:58.916190: I tensorflow/core/kernels/data/shuffle_dataset_op.cc:390] Filling up shuffle buffer (this may take a while): 26 of 243\n",
      "2022-08-03 02:13:58.916201: I tensorflow/core/kernels/data/shuffle_dataset_op.cc:390] Filling up shuffle buffer (this may take a while): 27 of 243\n",
      "2022-08-03 02:13:59.530575: I tensorflow/core/kernels/data/shuffle_dataset_op.cc:390] Filling up shuffle buffer (this may take a while): 28 of 243\n",
      "2022-08-03 02:13:59.530662: I tensorflow/core/kernels/data/shuffle_dataset_op.cc:390] Filling up shuffle buffer (this may take a while): 29 of 243\n",
      "2022-08-03 02:13:59.530683: I tensorflow/core/kernels/data/shuffle_dataset_op.cc:390] Filling up shuffle buffer (this may take a while): 30 of 243\n",
      "2022-08-03 02:13:59.703412: I tensorflow/core/kernels/data/shuffle_dataset_op.cc:390] Filling up shuffle buffer (this may take a while): 31 of 243\n",
      "2022-08-03 02:13:59.703495: I tensorflow/core/kernels/data/shuffle_dataset_op.cc:390] Filling up shuffle buffer (this may take a while): 32 of 243\n",
      "2022-08-03 02:13:59.703517: I tensorflow/core/kernels/data/shuffle_dataset_op.cc:390] Filling up shuffle buffer (this may take a while): 33 of 243\n",
      "2022-08-03 02:14:00.057120: I tensorflow/core/kernels/data/shuffle_dataset_op.cc:390] Filling up shuffle buffer (this may take a while): 34 of 243\n",
      "2022-08-03 02:14:00.057503: I tensorflow/core/kernels/data/shuffle_dataset_op.cc:390] Filling up shuffle buffer (this may take a while): 35 of 243\n",
      "2022-08-03 02:14:00.057577: I tensorflow/core/kernels/data/shuffle_dataset_op.cc:390] Filling up shuffle buffer (this may take a while): 36 of 243\n",
      "2022-08-03 02:15:42.025137: I tensorflow/core/kernels/data/shuffle_dataset_op.cc:390] Filling up shuffle buffer (this may take a while): 50 of 243\n",
      "2022-08-03 02:15:42.025267: I tensorflow/core/kernels/data/shuffle_dataset_op.cc:390] Filling up shuffle buffer (this may take a while): 51 of 243\n",
      "2022-08-03 02:15:42.046371: I tensorflow/core/kernels/data/shuffle_dataset_op.cc:390] Filling up shuffle buffer (this may take a while): 52 of 243\n",
      "2022-08-03 02:15:42.046443: I tensorflow/core/kernels/data/shuffle_dataset_op.cc:390] Filling up shuffle buffer (this may take a while): 53 of 243\n",
      "2022-08-03 02:15:42.078240: I tensorflow/core/kernels/data/shuffle_dataset_op.cc:390] Filling up shuffle buffer (this may take a while): 54 of 243\n",
      "2022-08-03 02:15:42.078292: I tensorflow/core/kernels/data/shuffle_dataset_op.cc:390] Filling up shuffle buffer (this may take a while): 55 of 243\n",
      "2022-08-03 02:15:42.386225: I tensorflow/core/kernels/data/shuffle_dataset_op.cc:390] Filling up shuffle buffer (this may take a while): 56 of 243\n",
      "2022-08-03 02:15:42.386516: I tensorflow/core/kernels/data/shuffle_dataset_op.cc:390] Filling up shuffle buffer (this may take a while): 57 of 243\n",
      "2022-08-03 02:15:42.515192: I tensorflow/core/kernels/data/shuffle_dataset_op.cc:390] Filling up shuffle buffer (this may take a while): 58 of 243\n",
      "2022-08-03 02:15:42.515282: I tensorflow/core/kernels/data/shuffle_dataset_op.cc:390] Filling up shuffle buffer (this may take a while): 59 of 243\n",
      "2022-08-03 02:17:23.727738: I tensorflow/core/kernels/data/shuffle_dataset_op.cc:390] Filling up shuffle buffer (this may take a while): 66 of 243\n",
      "2022-08-03 02:17:23.727848: I tensorflow/core/kernels/data/shuffle_dataset_op.cc:390] Filling up shuffle buffer (this may take a while): 67 of 243\n",
      "2022-08-03 02:17:24.023065: I tensorflow/core/kernels/data/shuffle_dataset_op.cc:390] Filling up shuffle buffer (this may take a while): 68 of 243\n",
      "2022-08-03 02:17:24.023139: I tensorflow/core/kernels/data/shuffle_dataset_op.cc:390] Filling up shuffle buffer (this may take a while): 69 of 243\n",
      "2022-08-03 02:17:24.023162: I tensorflow/core/kernels/data/shuffle_dataset_op.cc:390] Filling up shuffle buffer (this may take a while): 70 of 243\n",
      "2022-08-03 02:17:24.280143: I tensorflow/core/kernels/data/shuffle_dataset_op.cc:390] Filling up shuffle buffer (this may take a while): 71 of 243\n",
      "2022-08-03 02:17:24.280216: I tensorflow/core/kernels/data/shuffle_dataset_op.cc:390] Filling up shuffle buffer (this may take a while): 72 of 243\n",
      "2022-08-03 02:17:24.429376: I tensorflow/core/kernels/data/shuffle_dataset_op.cc:390] Filling up shuffle buffer (this may take a while): 73 of 243\n",
      "2022-08-03 02:17:24.429473: I tensorflow/core/kernels/data/shuffle_dataset_op.cc:390] Filling up shuffle buffer (this may take a while): 74 of 243\n",
      "2022-08-03 02:17:24.729445: I tensorflow/core/kernels/data/shuffle_dataset_op.cc:390] Filling up shuffle buffer (this may take a while): 75 of 243\n",
      "2022-08-03 02:19:03.908669: I tensorflow/core/kernels/data/shuffle_dataset_op.cc:390] Filling up shuffle buffer (this may take a while): 83 of 243\n",
      "2022-08-03 02:19:03.908737: I tensorflow/core/kernels/data/shuffle_dataset_op.cc:390] Filling up shuffle buffer (this may take a while): 84 of 243\n",
      "2022-08-03 02:19:03.908792: I tensorflow/core/kernels/data/shuffle_dataset_op.cc:390] Filling up shuffle buffer (this may take a while): 85 of 243\n",
      "2022-08-03 02:19:04.612248: I tensorflow/core/kernels/data/shuffle_dataset_op.cc:390] Filling up shuffle buffer (this may take a while): 86 of 243\n",
      "2022-08-03 02:19:04.612344: I tensorflow/core/kernels/data/shuffle_dataset_op.cc:390] Filling up shuffle buffer (this may take a while): 87 of 243\n",
      "2022-08-03 02:19:04.612378: I tensorflow/core/kernels/data/shuffle_dataset_op.cc:390] Filling up shuffle buffer (this may take a while): 88 of 243\n",
      "2022-08-03 02:19:04.713653: I tensorflow/core/kernels/data/shuffle_dataset_op.cc:390] Filling up shuffle buffer (this may take a while): 89 of 243\n",
      "2022-08-03 02:19:04.713757: I tensorflow/core/kernels/data/shuffle_dataset_op.cc:390] Filling up shuffle buffer (this may take a while): 90 of 243\n",
      "2022-08-03 02:19:05.094732: I tensorflow/core/kernels/data/shuffle_dataset_op.cc:390] Filling up shuffle buffer (this may take a while): 91 of 243\n",
      "2022-08-03 02:19:05.094811: I tensorflow/core/kernels/data/shuffle_dataset_op.cc:390] Filling up shuffle buffer (this may take a while): 92 of 243\n",
      "2022-08-03 02:19:06.565456: I tensorflow/core/kernels/data/shuffle_dataset_op.cc:390] Filling up shuffle buffer (this may take a while): 101 of 243\n",
      "2022-08-03 02:20:44.255098: I tensorflow/core/kernels/data/shuffle_dataset_op.cc:390] Filling up shuffle buffer (this may take a while): 104 of 243\n",
      "2022-08-03 02:20:44.255221: I tensorflow/core/kernels/data/shuffle_dataset_op.cc:390] Filling up shuffle buffer (this may take a while): 105 of 243\n",
      "2022-08-03 02:20:44.255299: I tensorflow/core/kernels/data/shuffle_dataset_op.cc:390] Filling up shuffle buffer (this may take a while): 106 of 243\n",
      "2022-08-03 02:20:44.569904: I tensorflow/core/kernels/data/shuffle_dataset_op.cc:390] Filling up shuffle buffer (this may take a while): 107 of 243\n",
      "2022-08-03 02:20:44.570090: I tensorflow/core/kernels/data/shuffle_dataset_op.cc:390] Filling up shuffle buffer (this may take a while): 108 of 243\n",
      "2022-08-03 02:20:44.570142: I tensorflow/core/kernels/data/shuffle_dataset_op.cc:390] Filling up shuffle buffer (this may take a while): 109 of 243\n",
      "2022-08-03 02:20:44.893736: I tensorflow/core/kernels/data/shuffle_dataset_op.cc:390] Filling up shuffle buffer (this may take a while): 110 of 243\n",
      "2022-08-03 02:20:44.893806: I tensorflow/core/kernels/data/shuffle_dataset_op.cc:390] Filling up shuffle buffer (this may take a while): 111 of 243\n",
      "2022-08-03 02:20:44.893824: I tensorflow/core/kernels/data/shuffle_dataset_op.cc:390] Filling up shuffle buffer (this may take a while): 112 of 243\n",
      "2022-08-03 02:20:46.504243: I tensorflow/core/kernels/data/shuffle_dataset_op.cc:390] Filling up shuffle buffer (this may take a while): 124 of 243\n"
     ]
    },
    {
     "name": "stderr",
     "output_type": "stream",
     "text": [
      "2022-08-03 02:22:23.947491: I tensorflow/core/kernels/data/shuffle_dataset_op.cc:390] Filling up shuffle buffer (this may take a while): 126 of 243\n",
      "2022-08-03 02:22:23.947650: I tensorflow/core/kernels/data/shuffle_dataset_op.cc:390] Filling up shuffle buffer (this may take a while): 127 of 243\n",
      "2022-08-03 02:22:23.947711: I tensorflow/core/kernels/data/shuffle_dataset_op.cc:390] Filling up shuffle buffer (this may take a while): 128 of 243\n",
      "2022-08-03 02:22:24.579407: I tensorflow/core/kernels/data/shuffle_dataset_op.cc:390] Filling up shuffle buffer (this may take a while): 129 of 243\n",
      "2022-08-03 02:22:24.579464: I tensorflow/core/kernels/data/shuffle_dataset_op.cc:390] Filling up shuffle buffer (this may take a while): 130 of 243\n",
      "2022-08-03 02:22:24.579476: I tensorflow/core/kernels/data/shuffle_dataset_op.cc:390] Filling up shuffle buffer (this may take a while): 131 of 243\n",
      "2022-08-03 02:22:24.867569: I tensorflow/core/kernels/data/shuffle_dataset_op.cc:390] Filling up shuffle buffer (this may take a while): 132 of 243\n",
      "2022-08-03 02:22:24.867761: I tensorflow/core/kernels/data/shuffle_dataset_op.cc:390] Filling up shuffle buffer (this may take a while): 133 of 243\n",
      "2022-08-03 02:22:24.867840: I tensorflow/core/kernels/data/shuffle_dataset_op.cc:390] Filling up shuffle buffer (this may take a while): 134 of 243\n"
     ]
    }
   ],
   "source": [
    "load_path = '../../results/Ganomaly_3D/0002_train_parkinson/'\n",
    "for k, folder in enumerate(sorted(os.listdir(load_path))):\n",
    "    opts[\"gen_model_path\"] = os.path.join(load_path, folder, \"gen_model.h5\")\n",
    "    opts[\"disc_model_path\"] = os.path.join(load_path, folder, \"disc_model.h5\")\n",
    "    \n",
    "    test(\n",
    "        opts, \n",
    "        TP,\n",
    "        TN,\n",
    "        FP,\n",
    "        FN,\n",
    "        AUC,\n",
    "        train_folds[k],\n",
    "        test_folds[k]\n",
    "    )"
   ]
  }
 ],
 "metadata": {
  "kernelspec": {
   "display_name": "Python 3 (ipykernel)",
   "language": "python",
   "name": "python3"
  },
  "language_info": {
   "codemirror_mode": {
    "name": "ipython",
    "version": 3
   },
   "file_extension": ".py",
   "mimetype": "text/x-python",
   "name": "python",
   "nbconvert_exporter": "python",
   "pygments_lexer": "ipython3",
   "version": "3.8.10"
  }
 },
 "nbformat": 4,
 "nbformat_minor": 5
}
